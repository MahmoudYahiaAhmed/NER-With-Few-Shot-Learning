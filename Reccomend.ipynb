{
  "cells": [
    {
      "cell_type": "code",
      "execution_count": null,
      "id": "612131ed",
      "metadata": {
        "colab": {
          "base_uri": "https://localhost:8080/"
        },
        "id": "612131ed",
        "outputId": "d3007007-3445-4b28-900c-89300640f31c"
      },
      "outputs": [
        {
          "output_type": "stream",
          "name": "stderr",
          "text": [
            "[nltk_data] Downloading package stopwords to /root/nltk_data...\n",
            "[nltk_data]   Unzipping corpora/stopwords.zip.\n",
            "[nltk_data] Downloading package punkt to /root/nltk_data...\n",
            "[nltk_data]   Unzipping tokenizers/punkt.zip.\n"
          ]
        },
        {
          "output_type": "execute_result",
          "data": {
            "text/plain": [
              "True"
            ]
          },
          "metadata": {},
          "execution_count": 1
        }
      ],
      "source": [
        "import pandas as pd\n",
        "import numpy as np\n",
        "from sklearn import preprocessing\n",
        "from sklearn.cluster import KMeans\n",
        "import pandas as pd\n",
        "import seaborn as sns\n",
        "from sklearn.preprocessing import MinMaxScaler\n",
        "from sklearn.cluster import DBSCAN\n",
        "from matplotlib import pyplot as plt\n",
        "from pylab import rcParams\n",
        "import  scipy.cluster.hierarchy as sch\n",
        "from sklearn.cluster import AgglomerativeClustering\n",
        "from sklearn.datasets import make_classification\n",
        "from sklearn.cluster import Birch\n",
        "from sklearn.datasets import make_blobs\n",
        "from sklearn.metrics import silhouette_samples, silhouette_score\n",
        "import matplotlib.cm as cm\n",
        "import random\n",
        "import json\n",
        "from nltk.corpus import stopwords\n",
        "from nltk.tokenize import word_tokenize\n",
        "from nltk.stem import PorterStemmer\n",
        "from nltk.tokenize import sent_tokenize, word_tokenize\n",
        "import pandas as pd\n",
        "import re\n",
        "import nltk\n",
        "from sklearn.feature_extraction.text import TfidfVectorizer\n",
        "from sklearn import preprocessing\n",
        "from sklearn.feature_extraction.text import TfidfTransformer\n",
        "from sklearn.feature_extraction.text import CountVectorizer\n",
        "from sklearn.pipeline import Pipeline\n",
        "import numpy as np\n",
        "from sklearn.impute import SimpleImputer\n",
        "imputer = SimpleImputer(missing_values=np.nan, strategy='mean')\n",
        "from sklearn.metrics import accuracy_score\n",
        "from sklearn.model_selection import train_test_split\n",
        "from sklearn.pipeline import Pipeline\n",
        "from sklearn.svm import SVC\n",
        "from sklearn.neighbors import KNeighborsClassifier\n",
        "from sklearn.naive_bayes import MultinomialNB\n",
        "import numpy as np\n",
        "import pandas as pd\n",
        "from sklearn.model_selection import GridSearchCV\n",
        "from sklearn.feature_extraction.text import CountVectorizer\n",
        "from sklearn.feature_extraction.text import TfidfTransformer\n",
        "from sklearn import metrics\n",
        "from sklearn.linear_model import LogisticRegression\n",
        "from sklearn.neighbors import KNeighborsClassifier\n",
        "from sklearn.ensemble import RandomForestClassifier\n",
        "from sklearn.tree import DecisionTreeClassifier\n",
        "from xgboost import XGBClassifier\n",
        "from sklearn.model_selection import cross_val_score\n",
        "from sklearn.neural_network import MLPClassifier\n",
        "\n",
        "\n",
        "nltk.download('stopwords')\n",
        "nltk.download('punkt')"
      ]
    },
    {
      "cell_type": "code",
      "execution_count": null,
      "id": "169c497c",
      "metadata": {
        "id": "169c497c"
      },
      "outputs": [],
      "source": [
        "def clean(s):\n",
        "    #Remove punctuations\n",
        "    s=re.sub(r'[^\\w\\s]','',s)\n",
        "    #Remove Digits\n",
        "    s=re.sub(r\"(\\d)\", \"\", s)\n",
        "    #Remove content inside paranthesis\n",
        "    s=re.sub(r'\\([^)]*\\)', '', s)    \n",
        "    #Remove Brand Name\n",
        "    s=re.sub(u'\\w*\\u2122', '', s)    \n",
        "    #Convert to lowercase\n",
        "    s=s.lower()   \n",
        "    #Remove Stop Words\n",
        "    stop_words = set(stopwords.words('english'))\n",
        "    word_tokens = word_tokenize(s)\n",
        "    filtered_sentence = [w for w in word_tokens if not w in stop_words]\n",
        "    filtered_sentence = []\n",
        "    for w in word_tokens:\n",
        "        if w not in stop_words:\n",
        "            filtered_sentence.append(w)\n",
        "    s=' '.join(filtered_sentence)\n",
        "    # #Remove low-content adjectives\n",
        "    # #Porter Stemmer Algorithm\n",
        "    words = word_tokenize(s)\n",
        "    word_ps=[]\n",
        "    for w in words:\n",
        "        word_ps.append(ps.stem(w))\n",
        "    s=' '.join(word_ps)\n",
        "    return s"
      ]
    },
    {
      "cell_type": "code",
      "execution_count": null,
      "id": "3d0e17e6",
      "metadata": {
        "colab": {
          "base_uri": "https://localhost:8080/"
        },
        "id": "3d0e17e6",
        "outputId": "ac58f2b2-a92c-4a65-801e-f80103cec2e4"
      },
      "outputs": [
        {
          "output_type": "stream",
          "name": "stdout",
          "text": [
            "{'id': 10259, 'cuisine': 'greek', 'ingredients': ['romaine lettuce', 'black olives', 'grape tomatoes', 'garlic', 'pepper', 'purple onion', 'seasoning', 'garbanzo beans', 'feta cheese crumbles']}\n"
          ]
        }
      ],
      "source": [
        "ps = PorterStemmer()\n",
        "\n",
        "file = r'train.json'\n",
        "with open(file) as train_file:\n",
        "    dict_train = json.load(train_file)\n",
        "print(dict_train[0])\n",
        "file = r'test.json'\n",
        "with open(file) as test_file:\n",
        "    dict_test= json.load(test_file)"
      ]
    },
    {
      "cell_type": "code",
      "execution_count": null,
      "id": "18d2d8fa",
      "metadata": {
        "colab": {
          "base_uri": "https://localhost:8080/"
        },
        "id": "18d2d8fa",
        "outputId": "fdee1550-1398-4bbc-b344-0fbb5866490e"
      },
      "outputs": [
        {
          "output_type": "execute_result",
          "data": {
            "text/plain": [
              "39774"
            ]
          },
          "metadata": {},
          "execution_count": 6
        }
      ],
      "source": [
        "len(dict_train)"
      ]
    },
    {
      "cell_type": "code",
      "execution_count": null,
      "id": "351a66f8",
      "metadata": {
        "id": "351a66f8"
      },
      "outputs": [],
      "source": [
        "id_ = []\n",
        "cuisine = []\n",
        "ingredients = []\n",
        "for i in range(len(dict_train)):\n",
        "    id_.append(dict_train[i]['id'])\n",
        "    cuisine.append(dict_train[i]['cuisine'])\n",
        "    ingredients.append(dict_train[i]['ingredients'])\n",
        "df = pd.DataFrame({'id':id_, \n",
        "                   'cuisine':cuisine, \n",
        "                   'ingredients':ingredients})"
      ]
    },
    {
      "cell_type": "code",
      "execution_count": null,
      "id": "3c0719cb",
      "metadata": {
        "colab": {
          "base_uri": "https://localhost:8080/",
          "height": 206
        },
        "id": "3c0719cb",
        "outputId": "fdf57b7b-3297-4b1d-c9cd-ef261fe493a6"
      },
      "outputs": [
        {
          "output_type": "execute_result",
          "data": {
            "text/plain": [
              "      id      cuisine                                        ingredients\n",
              "0  10259        greek  [romaine lettuce, black olives, grape tomatoes...\n",
              "1  25693  southern_us  [plain flour, ground pepper, salt, tomatoes, g...\n",
              "2  20130     filipino  [eggs, pepper, salt, mayonaise, cooking oil, g...\n",
              "3  22213       indian                [water, vegetable oil, wheat, salt]\n",
              "4  13162       indian  [black pepper, shallots, cornflour, cayenne pe..."
            ],
            "text/html": [
              "\n",
              "  <div id=\"df-9a072ffd-1936-4ffa-9501-fc6da4c4d236\">\n",
              "    <div class=\"colab-df-container\">\n",
              "      <div>\n",
              "<style scoped>\n",
              "    .dataframe tbody tr th:only-of-type {\n",
              "        vertical-align: middle;\n",
              "    }\n",
              "\n",
              "    .dataframe tbody tr th {\n",
              "        vertical-align: top;\n",
              "    }\n",
              "\n",
              "    .dataframe thead th {\n",
              "        text-align: right;\n",
              "    }\n",
              "</style>\n",
              "<table border=\"1\" class=\"dataframe\">\n",
              "  <thead>\n",
              "    <tr style=\"text-align: right;\">\n",
              "      <th></th>\n",
              "      <th>id</th>\n",
              "      <th>cuisine</th>\n",
              "      <th>ingredients</th>\n",
              "    </tr>\n",
              "  </thead>\n",
              "  <tbody>\n",
              "    <tr>\n",
              "      <th>0</th>\n",
              "      <td>10259</td>\n",
              "      <td>greek</td>\n",
              "      <td>[romaine lettuce, black olives, grape tomatoes...</td>\n",
              "    </tr>\n",
              "    <tr>\n",
              "      <th>1</th>\n",
              "      <td>25693</td>\n",
              "      <td>southern_us</td>\n",
              "      <td>[plain flour, ground pepper, salt, tomatoes, g...</td>\n",
              "    </tr>\n",
              "    <tr>\n",
              "      <th>2</th>\n",
              "      <td>20130</td>\n",
              "      <td>filipino</td>\n",
              "      <td>[eggs, pepper, salt, mayonaise, cooking oil, g...</td>\n",
              "    </tr>\n",
              "    <tr>\n",
              "      <th>3</th>\n",
              "      <td>22213</td>\n",
              "      <td>indian</td>\n",
              "      <td>[water, vegetable oil, wheat, salt]</td>\n",
              "    </tr>\n",
              "    <tr>\n",
              "      <th>4</th>\n",
              "      <td>13162</td>\n",
              "      <td>indian</td>\n",
              "      <td>[black pepper, shallots, cornflour, cayenne pe...</td>\n",
              "    </tr>\n",
              "  </tbody>\n",
              "</table>\n",
              "</div>\n",
              "      <button class=\"colab-df-convert\" onclick=\"convertToInteractive('df-9a072ffd-1936-4ffa-9501-fc6da4c4d236')\"\n",
              "              title=\"Convert this dataframe to an interactive table.\"\n",
              "              style=\"display:none;\">\n",
              "        \n",
              "  <svg xmlns=\"http://www.w3.org/2000/svg\" height=\"24px\"viewBox=\"0 0 24 24\"\n",
              "       width=\"24px\">\n",
              "    <path d=\"M0 0h24v24H0V0z\" fill=\"none\"/>\n",
              "    <path d=\"M18.56 5.44l.94 2.06.94-2.06 2.06-.94-2.06-.94-.94-2.06-.94 2.06-2.06.94zm-11 1L8.5 8.5l.94-2.06 2.06-.94-2.06-.94L8.5 2.5l-.94 2.06-2.06.94zm10 10l.94 2.06.94-2.06 2.06-.94-2.06-.94-.94-2.06-.94 2.06-2.06.94z\"/><path d=\"M17.41 7.96l-1.37-1.37c-.4-.4-.92-.59-1.43-.59-.52 0-1.04.2-1.43.59L10.3 9.45l-7.72 7.72c-.78.78-.78 2.05 0 2.83L4 21.41c.39.39.9.59 1.41.59.51 0 1.02-.2 1.41-.59l7.78-7.78 2.81-2.81c.8-.78.8-2.07 0-2.86zM5.41 20L4 18.59l7.72-7.72 1.47 1.35L5.41 20z\"/>\n",
              "  </svg>\n",
              "      </button>\n",
              "      \n",
              "  <style>\n",
              "    .colab-df-container {\n",
              "      display:flex;\n",
              "      flex-wrap:wrap;\n",
              "      gap: 12px;\n",
              "    }\n",
              "\n",
              "    .colab-df-convert {\n",
              "      background-color: #E8F0FE;\n",
              "      border: none;\n",
              "      border-radius: 50%;\n",
              "      cursor: pointer;\n",
              "      display: none;\n",
              "      fill: #1967D2;\n",
              "      height: 32px;\n",
              "      padding: 0 0 0 0;\n",
              "      width: 32px;\n",
              "    }\n",
              "\n",
              "    .colab-df-convert:hover {\n",
              "      background-color: #E2EBFA;\n",
              "      box-shadow: 0px 1px 2px rgba(60, 64, 67, 0.3), 0px 1px 3px 1px rgba(60, 64, 67, 0.15);\n",
              "      fill: #174EA6;\n",
              "    }\n",
              "\n",
              "    [theme=dark] .colab-df-convert {\n",
              "      background-color: #3B4455;\n",
              "      fill: #D2E3FC;\n",
              "    }\n",
              "\n",
              "    [theme=dark] .colab-df-convert:hover {\n",
              "      background-color: #434B5C;\n",
              "      box-shadow: 0px 1px 3px 1px rgba(0, 0, 0, 0.15);\n",
              "      filter: drop-shadow(0px 1px 2px rgba(0, 0, 0, 0.3));\n",
              "      fill: #FFFFFF;\n",
              "    }\n",
              "  </style>\n",
              "\n",
              "      <script>\n",
              "        const buttonEl =\n",
              "          document.querySelector('#df-9a072ffd-1936-4ffa-9501-fc6da4c4d236 button.colab-df-convert');\n",
              "        buttonEl.style.display =\n",
              "          google.colab.kernel.accessAllowed ? 'block' : 'none';\n",
              "\n",
              "        async function convertToInteractive(key) {\n",
              "          const element = document.querySelector('#df-9a072ffd-1936-4ffa-9501-fc6da4c4d236');\n",
              "          const dataTable =\n",
              "            await google.colab.kernel.invokeFunction('convertToInteractive',\n",
              "                                                     [key], {});\n",
              "          if (!dataTable) return;\n",
              "\n",
              "          const docLinkHtml = 'Like what you see? Visit the ' +\n",
              "            '<a target=\"_blank\" href=https://colab.research.google.com/notebooks/data_table.ipynb>data table notebook</a>'\n",
              "            + ' to learn more about interactive tables.';\n",
              "          element.innerHTML = '';\n",
              "          dataTable['output_type'] = 'display_data';\n",
              "          await google.colab.output.renderOutput(dataTable, element);\n",
              "          const docLink = document.createElement('div');\n",
              "          docLink.innerHTML = docLinkHtml;\n",
              "          element.appendChild(docLink);\n",
              "        }\n",
              "      </script>\n",
              "    </div>\n",
              "  </div>\n",
              "  "
            ]
          },
          "metadata": {},
          "execution_count": 8
        }
      ],
      "source": [
        "df.head()"
      ]
    },
    {
      "cell_type": "code",
      "execution_count": null,
      "id": "34650121",
      "metadata": {
        "id": "34650121"
      },
      "outputs": [],
      "source": [
        "df['clean_ing'] = df.ingredients.map(lambda x: [clean(i) for i in x])"
      ]
    },
    {
      "cell_type": "code",
      "execution_count": null,
      "id": "b10a70e2",
      "metadata": {
        "colab": {
          "base_uri": "https://localhost:8080/",
          "height": 206
        },
        "id": "b10a70e2",
        "outputId": "45c13e7d-25cc-423c-fbad-4bee4cc70c8f"
      },
      "outputs": [
        {
          "output_type": "execute_result",
          "data": {
            "text/plain": [
              "      id      cuisine                                        ingredients  \\\n",
              "0  10259        greek  [romaine lettuce, black olives, grape tomatoes...   \n",
              "1  25693  southern_us  [plain flour, ground pepper, salt, tomatoes, g...   \n",
              "2  20130     filipino  [eggs, pepper, salt, mayonaise, cooking oil, g...   \n",
              "3  22213       indian                [water, vegetable oil, wheat, salt]   \n",
              "4  13162       indian  [black pepper, shallots, cornflour, cayenne pe...   \n",
              "\n",
              "                                           clean_ing  \n",
              "0  [romain lettuc, black oliv, grape tomato, garl...  \n",
              "1  [plain flour, ground pepper, salt, tomato, gro...  \n",
              "2  [egg, pepper, salt, mayonais, cook oil, green ...  \n",
              "3                    [water, veget oil, wheat, salt]  \n",
              "4  [black pepper, shallot, cornflour, cayenn pepp...  "
            ],
            "text/html": [
              "\n",
              "  <div id=\"df-d5f27387-1d58-43f7-8fa5-a5fe76b39f0b\">\n",
              "    <div class=\"colab-df-container\">\n",
              "      <div>\n",
              "<style scoped>\n",
              "    .dataframe tbody tr th:only-of-type {\n",
              "        vertical-align: middle;\n",
              "    }\n",
              "\n",
              "    .dataframe tbody tr th {\n",
              "        vertical-align: top;\n",
              "    }\n",
              "\n",
              "    .dataframe thead th {\n",
              "        text-align: right;\n",
              "    }\n",
              "</style>\n",
              "<table border=\"1\" class=\"dataframe\">\n",
              "  <thead>\n",
              "    <tr style=\"text-align: right;\">\n",
              "      <th></th>\n",
              "      <th>id</th>\n",
              "      <th>cuisine</th>\n",
              "      <th>ingredients</th>\n",
              "      <th>clean_ing</th>\n",
              "    </tr>\n",
              "  </thead>\n",
              "  <tbody>\n",
              "    <tr>\n",
              "      <th>0</th>\n",
              "      <td>10259</td>\n",
              "      <td>greek</td>\n",
              "      <td>[romaine lettuce, black olives, grape tomatoes...</td>\n",
              "      <td>[romain lettuc, black oliv, grape tomato, garl...</td>\n",
              "    </tr>\n",
              "    <tr>\n",
              "      <th>1</th>\n",
              "      <td>25693</td>\n",
              "      <td>southern_us</td>\n",
              "      <td>[plain flour, ground pepper, salt, tomatoes, g...</td>\n",
              "      <td>[plain flour, ground pepper, salt, tomato, gro...</td>\n",
              "    </tr>\n",
              "    <tr>\n",
              "      <th>2</th>\n",
              "      <td>20130</td>\n",
              "      <td>filipino</td>\n",
              "      <td>[eggs, pepper, salt, mayonaise, cooking oil, g...</td>\n",
              "      <td>[egg, pepper, salt, mayonais, cook oil, green ...</td>\n",
              "    </tr>\n",
              "    <tr>\n",
              "      <th>3</th>\n",
              "      <td>22213</td>\n",
              "      <td>indian</td>\n",
              "      <td>[water, vegetable oil, wheat, salt]</td>\n",
              "      <td>[water, veget oil, wheat, salt]</td>\n",
              "    </tr>\n",
              "    <tr>\n",
              "      <th>4</th>\n",
              "      <td>13162</td>\n",
              "      <td>indian</td>\n",
              "      <td>[black pepper, shallots, cornflour, cayenne pe...</td>\n",
              "      <td>[black pepper, shallot, cornflour, cayenn pepp...</td>\n",
              "    </tr>\n",
              "  </tbody>\n",
              "</table>\n",
              "</div>\n",
              "      <button class=\"colab-df-convert\" onclick=\"convertToInteractive('df-d5f27387-1d58-43f7-8fa5-a5fe76b39f0b')\"\n",
              "              title=\"Convert this dataframe to an interactive table.\"\n",
              "              style=\"display:none;\">\n",
              "        \n",
              "  <svg xmlns=\"http://www.w3.org/2000/svg\" height=\"24px\"viewBox=\"0 0 24 24\"\n",
              "       width=\"24px\">\n",
              "    <path d=\"M0 0h24v24H0V0z\" fill=\"none\"/>\n",
              "    <path d=\"M18.56 5.44l.94 2.06.94-2.06 2.06-.94-2.06-.94-.94-2.06-.94 2.06-2.06.94zm-11 1L8.5 8.5l.94-2.06 2.06-.94-2.06-.94L8.5 2.5l-.94 2.06-2.06.94zm10 10l.94 2.06.94-2.06 2.06-.94-2.06-.94-.94-2.06-.94 2.06-2.06.94z\"/><path d=\"M17.41 7.96l-1.37-1.37c-.4-.4-.92-.59-1.43-.59-.52 0-1.04.2-1.43.59L10.3 9.45l-7.72 7.72c-.78.78-.78 2.05 0 2.83L4 21.41c.39.39.9.59 1.41.59.51 0 1.02-.2 1.41-.59l7.78-7.78 2.81-2.81c.8-.78.8-2.07 0-2.86zM5.41 20L4 18.59l7.72-7.72 1.47 1.35L5.41 20z\"/>\n",
              "  </svg>\n",
              "      </button>\n",
              "      \n",
              "  <style>\n",
              "    .colab-df-container {\n",
              "      display:flex;\n",
              "      flex-wrap:wrap;\n",
              "      gap: 12px;\n",
              "    }\n",
              "\n",
              "    .colab-df-convert {\n",
              "      background-color: #E8F0FE;\n",
              "      border: none;\n",
              "      border-radius: 50%;\n",
              "      cursor: pointer;\n",
              "      display: none;\n",
              "      fill: #1967D2;\n",
              "      height: 32px;\n",
              "      padding: 0 0 0 0;\n",
              "      width: 32px;\n",
              "    }\n",
              "\n",
              "    .colab-df-convert:hover {\n",
              "      background-color: #E2EBFA;\n",
              "      box-shadow: 0px 1px 2px rgba(60, 64, 67, 0.3), 0px 1px 3px 1px rgba(60, 64, 67, 0.15);\n",
              "      fill: #174EA6;\n",
              "    }\n",
              "\n",
              "    [theme=dark] .colab-df-convert {\n",
              "      background-color: #3B4455;\n",
              "      fill: #D2E3FC;\n",
              "    }\n",
              "\n",
              "    [theme=dark] .colab-df-convert:hover {\n",
              "      background-color: #434B5C;\n",
              "      box-shadow: 0px 1px 3px 1px rgba(0, 0, 0, 0.15);\n",
              "      filter: drop-shadow(0px 1px 2px rgba(0, 0, 0, 0.3));\n",
              "      fill: #FFFFFF;\n",
              "    }\n",
              "  </style>\n",
              "\n",
              "      <script>\n",
              "        const buttonEl =\n",
              "          document.querySelector('#df-d5f27387-1d58-43f7-8fa5-a5fe76b39f0b button.colab-df-convert');\n",
              "        buttonEl.style.display =\n",
              "          google.colab.kernel.accessAllowed ? 'block' : 'none';\n",
              "\n",
              "        async function convertToInteractive(key) {\n",
              "          const element = document.querySelector('#df-d5f27387-1d58-43f7-8fa5-a5fe76b39f0b');\n",
              "          const dataTable =\n",
              "            await google.colab.kernel.invokeFunction('convertToInteractive',\n",
              "                                                     [key], {});\n",
              "          if (!dataTable) return;\n",
              "\n",
              "          const docLinkHtml = 'Like what you see? Visit the ' +\n",
              "            '<a target=\"_blank\" href=https://colab.research.google.com/notebooks/data_table.ipynb>data table notebook</a>'\n",
              "            + ' to learn more about interactive tables.';\n",
              "          element.innerHTML = '';\n",
              "          dataTable['output_type'] = 'display_data';\n",
              "          await google.colab.output.renderOutput(dataTable, element);\n",
              "          const docLink = document.createElement('div');\n",
              "          docLink.innerHTML = docLinkHtml;\n",
              "          element.appendChild(docLink);\n",
              "        }\n",
              "      </script>\n",
              "    </div>\n",
              "  </div>\n",
              "  "
            ]
          },
          "metadata": {},
          "execution_count": 11
        }
      ],
      "source": [
        "df.head()"
      ]
    },
    {
      "cell_type": "code",
      "execution_count": null,
      "id": "321d6b0c",
      "metadata": {
        "id": "321d6b0c"
      },
      "outputs": [],
      "source": [
        "all_unique_ings = set(sum(df['clean_ing'].tolist(), []))"
      ]
    },
    {
      "cell_type": "code",
      "execution_count": null,
      "id": "86a6a699",
      "metadata": {
        "colab": {
          "base_uri": "https://localhost:8080/"
        },
        "id": "86a6a699",
        "outputId": "d7c67585-7b0a-4d6e-8dc5-ef3c735f0ac7"
      },
      "outputs": [
        {
          "output_type": "execute_result",
          "data": {
            "text/plain": [
              "6666"
            ]
          },
          "metadata": {},
          "execution_count": 13
        }
      ],
      "source": [
        "len(all_unique_ings)"
      ]
    },
    {
      "cell_type": "code",
      "execution_count": null,
      "id": "b907eb2c",
      "metadata": {
        "id": "b907eb2c"
      },
      "outputs": [],
      "source": [
        "df['ing_sent'] = df['clean_ing'].map(lambda x: ','.join(x))"
      ]
    },
    {
      "cell_type": "code",
      "execution_count": null,
      "id": "f673c70c",
      "metadata": {
        "id": "f673c70c"
      },
      "outputs": [],
      "source": [
        "vocabulary = list(all_unique_ings)\n",
        "tfidf_pip = Pipeline([('count', CountVectorizer(vocabulary=vocabulary)),\n",
        "                    ('tfid', TfidfTransformer())])"
      ]
    },
    {
      "cell_type": "code",
      "execution_count": null,
      "id": "3ee3af95",
      "metadata": {
        "id": "3ee3af95"
      },
      "outputs": [],
      "source": [
        "X = df['ing_sent']"
      ]
    },
    {
      "cell_type": "code",
      "execution_count": null,
      "id": "5d825576",
      "metadata": {
        "id": "5d825576"
      },
      "outputs": [],
      "source": [
        "lb_encoder = preprocessing.LabelEncoder().fit(df['cuisine'])\n",
        "df['encoded_cuisine'] = lb_encoder.transform(df['cuisine']) "
      ]
    },
    {
      "cell_type": "code",
      "execution_count": null,
      "id": "59aa532f",
      "metadata": {
        "id": "59aa532f"
      },
      "outputs": [],
      "source": [
        "Y = df['encoded_cuisine']"
      ]
    },
    {
      "cell_type": "code",
      "execution_count": null,
      "id": "362ff8ba",
      "metadata": {
        "id": "362ff8ba"
      },
      "outputs": [],
      "source": [
        "X_train, X_test, y_train, y_test = train_test_split(X, Y,test_size=0.20, random_state=0)"
      ]
    },
    {
      "cell_type": "code",
      "execution_count": null,
      "id": "758776c7",
      "metadata": {
        "id": "758776c7"
      },
      "outputs": [],
      "source": [
        "tfidf_pip = tfidf_pip.fit(X_train)"
      ]
    },
    {
      "cell_type": "code",
      "execution_count": null,
      "id": "d2299176",
      "metadata": {
        "id": "d2299176"
      },
      "outputs": [],
      "source": [
        "pipe_svm = Pipeline([\n",
        "                     ('SVM', SVC(kernel='linear', C=1,gamma=0.01,random_state=0))\n",
        "                    ])"
      ]
    },
    {
      "cell_type": "code",
      "execution_count": null,
      "id": "3834ccbd",
      "metadata": {
        "colab": {
          "base_uri": "https://localhost:8080/"
        },
        "id": "3834ccbd",
        "outputId": "b622e6e2-6142-482a-8298-3dbedb4c1f19"
      },
      "outputs": [
        {
          "output_type": "stream",
          "name": "stdout",
          "text": [
            "nan accuracy with a standard deviation of nan\n"
          ]
        },
        {
          "output_type": "stream",
          "name": "stderr",
          "text": [
            "/usr/local/lib/python3.7/dist-packages/sklearn/model_selection/_validation.py:372: FitFailedWarning: \n",
            "10 fits failed out of a total of 10.\n",
            "The score on these train-test partitions for these parameters will be set to nan.\n",
            "If these failures are not expected, you can try to debug them by setting error_score='raise'.\n",
            "\n",
            "Below are more details about the failures:\n",
            "--------------------------------------------------------------------------------\n",
            "1 fits failed with the following error:\n",
            "Traceback (most recent call last):\n",
            "  File \"/usr/local/lib/python3.7/dist-packages/sklearn/model_selection/_validation.py\", line 680, in _fit_and_score\n",
            "    estimator.fit(X_train, y_train, **fit_params)\n",
            "  File \"/usr/local/lib/python3.7/dist-packages/sklearn/pipeline.py\", line 394, in fit\n",
            "    self._final_estimator.fit(Xt, y, **fit_params_last_step)\n",
            "  File \"/usr/local/lib/python3.7/dist-packages/sklearn/svm/_base.py\", line 196, in fit\n",
            "    accept_large_sparse=False,\n",
            "  File \"/usr/local/lib/python3.7/dist-packages/sklearn/base.py\", line 581, in _validate_data\n",
            "    X, y = check_X_y(X, y, **check_params)\n",
            "  File \"/usr/local/lib/python3.7/dist-packages/sklearn/utils/validation.py\", line 976, in check_X_y\n",
            "    estimator=estimator,\n",
            "  File \"/usr/local/lib/python3.7/dist-packages/sklearn/utils/validation.py\", line 746, in check_array\n",
            "    array = np.asarray(array, order=order, dtype=dtype)\n",
            "  File \"/usr/local/lib/python3.7/dist-packages/pandas/core/series.py\", line 857, in __array__\n",
            "    return np.asarray(self._values, dtype)\n",
            "ValueError: could not convert string to float: 'soy sauc,peanut oil,noodl,garlic chive,chicken breast,corn starch,fish sauc,red curri past,galang,chicken broth,peanut,juic'\n",
            "\n",
            "--------------------------------------------------------------------------------\n",
            "9 fits failed with the following error:\n",
            "Traceback (most recent call last):\n",
            "  File \"/usr/local/lib/python3.7/dist-packages/sklearn/model_selection/_validation.py\", line 680, in _fit_and_score\n",
            "    estimator.fit(X_train, y_train, **fit_params)\n",
            "  File \"/usr/local/lib/python3.7/dist-packages/sklearn/pipeline.py\", line 394, in fit\n",
            "    self._final_estimator.fit(Xt, y, **fit_params_last_step)\n",
            "  File \"/usr/local/lib/python3.7/dist-packages/sklearn/svm/_base.py\", line 196, in fit\n",
            "    accept_large_sparse=False,\n",
            "  File \"/usr/local/lib/python3.7/dist-packages/sklearn/base.py\", line 581, in _validate_data\n",
            "    X, y = check_X_y(X, y, **check_params)\n",
            "  File \"/usr/local/lib/python3.7/dist-packages/sklearn/utils/validation.py\", line 976, in check_X_y\n",
            "    estimator=estimator,\n",
            "  File \"/usr/local/lib/python3.7/dist-packages/sklearn/utils/validation.py\", line 746, in check_array\n",
            "    array = np.asarray(array, order=order, dtype=dtype)\n",
            "  File \"/usr/local/lib/python3.7/dist-packages/pandas/core/series.py\", line 857, in __array__\n",
            "    return np.asarray(self._values, dtype)\n",
            "ValueError: could not convert string to float: 'black bean,russet potato,green onion,red enchilada sauc,jalapeno chili,frozen corn kernel,cheddar chees,veget oil'\n",
            "\n",
            "  warnings.warn(some_fits_failed_message, FitFailedWarning)\n"
          ]
        }
      ],
      "source": [
        "scores = cross_val_score( pipe_svm, X_train , y_train , cv=10)\n",
        "print(\"%0.2f accuracy with a standard deviation of %0.2f\" % (scores.mean(), scores.std()))"
      ]
    },
    {
      "cell_type": "code",
      "execution_count": null,
      "id": "74b7d82a",
      "metadata": {
        "id": "74b7d82a"
      },
      "outputs": [],
      "source": [
        "model = pipe_svm.fit(tfidf_pip.fit_transform(X_train), y_train)"
      ]
    },
    {
      "cell_type": "code",
      "execution_count": null,
      "id": "7cd0406a",
      "metadata": {
        "colab": {
          "base_uri": "https://localhost:8080/"
        },
        "id": "7cd0406a",
        "outputId": "a73c7a29-f1a2-4ce8-f5b3-55654b710075"
      },
      "outputs": [
        {
          "output_type": "execute_result",
          "data": {
            "text/plain": [
              "0.7948395612684245"
            ]
          },
          "metadata": {},
          "execution_count": 24
        }
      ],
      "source": [
        "model.score(tfidf_pip.fit_transform(X_train), y_train)"
      ]
    },
    {
      "cell_type": "code",
      "execution_count": null,
      "id": "d2d67209",
      "metadata": {
        "id": "d2d67209",
        "outputId": "e6622b1e-0594-420e-a442-f921454a90ce"
      },
      "outputs": [
        {
          "data": {
            "text/plain": [
              "0.7571338780641106"
            ]
          },
          "execution_count": 166,
          "metadata": {},
          "output_type": "execute_result"
        }
      ],
      "source": [
        "model.score(tfidf_pip.fit_transform(X_test), y_test)"
      ]
    },
    {
      "cell_type": "code",
      "source": [
        "predicted_train=model.predict(tfidf_pip.fit_transform(X))"
      ],
      "metadata": {
        "id": "0cAmA-sDmndU"
      },
      "id": "0cAmA-sDmndU",
      "execution_count": null,
      "outputs": []
    },
    {
      "cell_type": "code",
      "source": [
        "all_cuisines = set(df['cuisine'])"
      ],
      "metadata": {
        "id": "a_fq8-zvv7zA"
      },
      "id": "a_fq8-zvv7zA",
      "execution_count": null,
      "outputs": []
    },
    {
      "cell_type": "code",
      "source": [
        "df"
      ],
      "metadata": {
        "id": "ebmVAtJVwA-I",
        "outputId": "d8f2a1a1-8524-4b11-f5e4-88ea92002184",
        "colab": {
          "base_uri": "https://localhost:8080/",
          "height": 423
        }
      },
      "id": "ebmVAtJVwA-I",
      "execution_count": null,
      "outputs": [
        {
          "output_type": "execute_result",
          "data": {
            "text/plain": [
              "          id      cuisine                                        ingredients  \\\n",
              "0      10259        greek  [romaine lettuce, black olives, grape tomatoes...   \n",
              "1      25693  southern_us  [plain flour, ground pepper, salt, tomatoes, g...   \n",
              "2      20130     filipino  [eggs, pepper, salt, mayonaise, cooking oil, g...   \n",
              "3      22213       indian                [water, vegetable oil, wheat, salt]   \n",
              "4      13162       indian  [black pepper, shallots, cornflour, cayenne pe...   \n",
              "...      ...          ...                                                ...   \n",
              "39769  29109        irish  [light brown sugar, granulated sugar, butter, ...   \n",
              "39770  11462      italian  [KRAFT Zesty Italian Dressing, purple onion, b...   \n",
              "39771   2238        irish  [eggs, citrus fruit, raisins, sourdough starte...   \n",
              "39772  41882      chinese  [boneless chicken skinless thigh, minced garli...   \n",
              "39773   2362      mexican  [green chile, jalapeno chilies, onions, ground...   \n",
              "\n",
              "                                               clean_ing  \\\n",
              "0      [romain lettuc, black oliv, grape tomato, garl...   \n",
              "1      [plain flour, ground pepper, salt, tomato, gro...   \n",
              "2      [egg, pepper, salt, mayonais, cook oil, green ...   \n",
              "3                        [water, veget oil, wheat, salt]   \n",
              "4      [black pepper, shallot, cornflour, cayenn pepp...   \n",
              "...                                                  ...   \n",
              "39769  [light brown sugar, granul sugar, butter, warm...   \n",
              "39770  [kraft zesti italian dress, purpl onion, brocc...   \n",
              "39771  [egg, citru fruit, raisin, sourdough starter, ...   \n",
              "39772  [boneless chicken skinless thigh, minc garlic,...   \n",
              "39773  [green chile, jalapeno chili, onion, ground bl...   \n",
              "\n",
              "                                                ing_sent  encoded_cuisine  \n",
              "0      romain lettuc,black oliv,grape tomato,garlic,p...                6  \n",
              "1      plain flour,ground pepper,salt,tomato,ground b...               16  \n",
              "2      egg,pepper,salt,mayonais,cook oil,green chili,...                4  \n",
              "3                             water,veget oil,wheat,salt                7  \n",
              "4      black pepper,shallot,cornflour,cayenn pepper,o...                7  \n",
              "...                                                  ...              ...  \n",
              "39769  light brown sugar,granul sugar,butter,warm wat...                8  \n",
              "39770  kraft zesti italian dress,purpl onion,broccoli...                9  \n",
              "39771  egg,citru fruit,raisin,sourdough starter,flour...                8  \n",
              "39772  boneless chicken skinless thigh,minc garlic,st...                3  \n",
              "39773  green chile,jalapeno chili,onion,ground black ...               13  \n",
              "\n",
              "[39774 rows x 6 columns]"
            ],
            "text/html": [
              "\n",
              "  <div id=\"df-e4a29f6a-90a1-4851-91f8-d52582560a88\">\n",
              "    <div class=\"colab-df-container\">\n",
              "      <div>\n",
              "<style scoped>\n",
              "    .dataframe tbody tr th:only-of-type {\n",
              "        vertical-align: middle;\n",
              "    }\n",
              "\n",
              "    .dataframe tbody tr th {\n",
              "        vertical-align: top;\n",
              "    }\n",
              "\n",
              "    .dataframe thead th {\n",
              "        text-align: right;\n",
              "    }\n",
              "</style>\n",
              "<table border=\"1\" class=\"dataframe\">\n",
              "  <thead>\n",
              "    <tr style=\"text-align: right;\">\n",
              "      <th></th>\n",
              "      <th>id</th>\n",
              "      <th>cuisine</th>\n",
              "      <th>ingredients</th>\n",
              "      <th>clean_ing</th>\n",
              "      <th>ing_sent</th>\n",
              "      <th>encoded_cuisine</th>\n",
              "    </tr>\n",
              "  </thead>\n",
              "  <tbody>\n",
              "    <tr>\n",
              "      <th>0</th>\n",
              "      <td>10259</td>\n",
              "      <td>greek</td>\n",
              "      <td>[romaine lettuce, black olives, grape tomatoes...</td>\n",
              "      <td>[romain lettuc, black oliv, grape tomato, garl...</td>\n",
              "      <td>romain lettuc,black oliv,grape tomato,garlic,p...</td>\n",
              "      <td>6</td>\n",
              "    </tr>\n",
              "    <tr>\n",
              "      <th>1</th>\n",
              "      <td>25693</td>\n",
              "      <td>southern_us</td>\n",
              "      <td>[plain flour, ground pepper, salt, tomatoes, g...</td>\n",
              "      <td>[plain flour, ground pepper, salt, tomato, gro...</td>\n",
              "      <td>plain flour,ground pepper,salt,tomato,ground b...</td>\n",
              "      <td>16</td>\n",
              "    </tr>\n",
              "    <tr>\n",
              "      <th>2</th>\n",
              "      <td>20130</td>\n",
              "      <td>filipino</td>\n",
              "      <td>[eggs, pepper, salt, mayonaise, cooking oil, g...</td>\n",
              "      <td>[egg, pepper, salt, mayonais, cook oil, green ...</td>\n",
              "      <td>egg,pepper,salt,mayonais,cook oil,green chili,...</td>\n",
              "      <td>4</td>\n",
              "    </tr>\n",
              "    <tr>\n",
              "      <th>3</th>\n",
              "      <td>22213</td>\n",
              "      <td>indian</td>\n",
              "      <td>[water, vegetable oil, wheat, salt]</td>\n",
              "      <td>[water, veget oil, wheat, salt]</td>\n",
              "      <td>water,veget oil,wheat,salt</td>\n",
              "      <td>7</td>\n",
              "    </tr>\n",
              "    <tr>\n",
              "      <th>4</th>\n",
              "      <td>13162</td>\n",
              "      <td>indian</td>\n",
              "      <td>[black pepper, shallots, cornflour, cayenne pe...</td>\n",
              "      <td>[black pepper, shallot, cornflour, cayenn pepp...</td>\n",
              "      <td>black pepper,shallot,cornflour,cayenn pepper,o...</td>\n",
              "      <td>7</td>\n",
              "    </tr>\n",
              "    <tr>\n",
              "      <th>...</th>\n",
              "      <td>...</td>\n",
              "      <td>...</td>\n",
              "      <td>...</td>\n",
              "      <td>...</td>\n",
              "      <td>...</td>\n",
              "      <td>...</td>\n",
              "    </tr>\n",
              "    <tr>\n",
              "      <th>39769</th>\n",
              "      <td>29109</td>\n",
              "      <td>irish</td>\n",
              "      <td>[light brown sugar, granulated sugar, butter, ...</td>\n",
              "      <td>[light brown sugar, granul sugar, butter, warm...</td>\n",
              "      <td>light brown sugar,granul sugar,butter,warm wat...</td>\n",
              "      <td>8</td>\n",
              "    </tr>\n",
              "    <tr>\n",
              "      <th>39770</th>\n",
              "      <td>11462</td>\n",
              "      <td>italian</td>\n",
              "      <td>[KRAFT Zesty Italian Dressing, purple onion, b...</td>\n",
              "      <td>[kraft zesti italian dress, purpl onion, brocc...</td>\n",
              "      <td>kraft zesti italian dress,purpl onion,broccoli...</td>\n",
              "      <td>9</td>\n",
              "    </tr>\n",
              "    <tr>\n",
              "      <th>39771</th>\n",
              "      <td>2238</td>\n",
              "      <td>irish</td>\n",
              "      <td>[eggs, citrus fruit, raisins, sourdough starte...</td>\n",
              "      <td>[egg, citru fruit, raisin, sourdough starter, ...</td>\n",
              "      <td>egg,citru fruit,raisin,sourdough starter,flour...</td>\n",
              "      <td>8</td>\n",
              "    </tr>\n",
              "    <tr>\n",
              "      <th>39772</th>\n",
              "      <td>41882</td>\n",
              "      <td>chinese</td>\n",
              "      <td>[boneless chicken skinless thigh, minced garli...</td>\n",
              "      <td>[boneless chicken skinless thigh, minc garlic,...</td>\n",
              "      <td>boneless chicken skinless thigh,minc garlic,st...</td>\n",
              "      <td>3</td>\n",
              "    </tr>\n",
              "    <tr>\n",
              "      <th>39773</th>\n",
              "      <td>2362</td>\n",
              "      <td>mexican</td>\n",
              "      <td>[green chile, jalapeno chilies, onions, ground...</td>\n",
              "      <td>[green chile, jalapeno chili, onion, ground bl...</td>\n",
              "      <td>green chile,jalapeno chili,onion,ground black ...</td>\n",
              "      <td>13</td>\n",
              "    </tr>\n",
              "  </tbody>\n",
              "</table>\n",
              "<p>39774 rows × 6 columns</p>\n",
              "</div>\n",
              "      <button class=\"colab-df-convert\" onclick=\"convertToInteractive('df-e4a29f6a-90a1-4851-91f8-d52582560a88')\"\n",
              "              title=\"Convert this dataframe to an interactive table.\"\n",
              "              style=\"display:none;\">\n",
              "        \n",
              "  <svg xmlns=\"http://www.w3.org/2000/svg\" height=\"24px\"viewBox=\"0 0 24 24\"\n",
              "       width=\"24px\">\n",
              "    <path d=\"M0 0h24v24H0V0z\" fill=\"none\"/>\n",
              "    <path d=\"M18.56 5.44l.94 2.06.94-2.06 2.06-.94-2.06-.94-.94-2.06-.94 2.06-2.06.94zm-11 1L8.5 8.5l.94-2.06 2.06-.94-2.06-.94L8.5 2.5l-.94 2.06-2.06.94zm10 10l.94 2.06.94-2.06 2.06-.94-2.06-.94-.94-2.06-.94 2.06-2.06.94z\"/><path d=\"M17.41 7.96l-1.37-1.37c-.4-.4-.92-.59-1.43-.59-.52 0-1.04.2-1.43.59L10.3 9.45l-7.72 7.72c-.78.78-.78 2.05 0 2.83L4 21.41c.39.39.9.59 1.41.59.51 0 1.02-.2 1.41-.59l7.78-7.78 2.81-2.81c.8-.78.8-2.07 0-2.86zM5.41 20L4 18.59l7.72-7.72 1.47 1.35L5.41 20z\"/>\n",
              "  </svg>\n",
              "      </button>\n",
              "      \n",
              "  <style>\n",
              "    .colab-df-container {\n",
              "      display:flex;\n",
              "      flex-wrap:wrap;\n",
              "      gap: 12px;\n",
              "    }\n",
              "\n",
              "    .colab-df-convert {\n",
              "      background-color: #E8F0FE;\n",
              "      border: none;\n",
              "      border-radius: 50%;\n",
              "      cursor: pointer;\n",
              "      display: none;\n",
              "      fill: #1967D2;\n",
              "      height: 32px;\n",
              "      padding: 0 0 0 0;\n",
              "      width: 32px;\n",
              "    }\n",
              "\n",
              "    .colab-df-convert:hover {\n",
              "      background-color: #E2EBFA;\n",
              "      box-shadow: 0px 1px 2px rgba(60, 64, 67, 0.3), 0px 1px 3px 1px rgba(60, 64, 67, 0.15);\n",
              "      fill: #174EA6;\n",
              "    }\n",
              "\n",
              "    [theme=dark] .colab-df-convert {\n",
              "      background-color: #3B4455;\n",
              "      fill: #D2E3FC;\n",
              "    }\n",
              "\n",
              "    [theme=dark] .colab-df-convert:hover {\n",
              "      background-color: #434B5C;\n",
              "      box-shadow: 0px 1px 3px 1px rgba(0, 0, 0, 0.15);\n",
              "      filter: drop-shadow(0px 1px 2px rgba(0, 0, 0, 0.3));\n",
              "      fill: #FFFFFF;\n",
              "    }\n",
              "  </style>\n",
              "\n",
              "      <script>\n",
              "        const buttonEl =\n",
              "          document.querySelector('#df-e4a29f6a-90a1-4851-91f8-d52582560a88 button.colab-df-convert');\n",
              "        buttonEl.style.display =\n",
              "          google.colab.kernel.accessAllowed ? 'block' : 'none';\n",
              "\n",
              "        async function convertToInteractive(key) {\n",
              "          const element = document.querySelector('#df-e4a29f6a-90a1-4851-91f8-d52582560a88');\n",
              "          const dataTable =\n",
              "            await google.colab.kernel.invokeFunction('convertToInteractive',\n",
              "                                                     [key], {});\n",
              "          if (!dataTable) return;\n",
              "\n",
              "          const docLinkHtml = 'Like what you see? Visit the ' +\n",
              "            '<a target=\"_blank\" href=https://colab.research.google.com/notebooks/data_table.ipynb>data table notebook</a>'\n",
              "            + ' to learn more about interactive tables.';\n",
              "          element.innerHTML = '';\n",
              "          dataTable['output_type'] = 'display_data';\n",
              "          await google.colab.output.renderOutput(dataTable, element);\n",
              "          const docLink = document.createElement('div');\n",
              "          docLink.innerHTML = docLinkHtml;\n",
              "          element.appendChild(docLink);\n",
              "        }\n",
              "      </script>\n",
              "    </div>\n",
              "  </div>\n",
              "  "
            ]
          },
          "metadata": {},
          "execution_count": 32
        }
      ]
    },
    {
      "cell_type": "code",
      "source": [
        "confusion_matrix = metrics.confusion_matrix(df['encoded_cuisine'], predicted_train)\n",
        "import matplotlib.pyplot as plt\n",
        "fig, ax = plt.subplots(figsize=(7.5,7.5))\n",
        "im = ax.imshow(confusion_matrix)\n",
        "ax.set_xticks(np.arange(len(all_cuisines)))\n",
        "ax.set_yticks(np.arange(len(all_cuisines)))\n",
        "ax.set_xticklabels(all_cuisines, rotation=90)\n",
        "ax.set_yticklabels(all_cuisines)\n",
        "ax.set_xlabel('Predicted cuisine')\n",
        "ax.set_ylabel('Actual cuisine')\n"
      ],
      "metadata": {
        "colab": {
          "base_uri": "https://localhost:8080/",
          "height": 540
        },
        "id": "q_M2G5Nyhdbl",
        "outputId": "2160972c-f2e8-408d-c134-87aaa3853b5d"
      },
      "id": "q_M2G5Nyhdbl",
      "execution_count": null,
      "outputs": [
        {
          "output_type": "execute_result",
          "data": {
            "text/plain": [
              "Text(0, 0.5, 'Actual cuisine')"
            ]
          },
          "metadata": {},
          "execution_count": 33
        },
        {
          "output_type": "display_data",
          "data": {
            "text/plain": [
              "<Figure size 540x540 with 1 Axes>"
            ],
            "image/png": "[encoded data removed]"
          },
          "metadata": {
            "needs_background": "light"
          }
        }
      ]
    },
    {
      "cell_type": "code",
      "execution_count": null,
      "id": "b58d0e39",
      "metadata": {
        "id": "b58d0e39"
      },
      "outputs": [],
      "source": [
        "import pickle\n",
        "\n",
        "# Save the model under the cwd\n",
        "pkl_filename = \"classification_svg_model.pkl\"\n",
        "pickle.dump(model, open(pkl_filename, 'wb'))"
      ]
    },
    {
      "cell_type": "code",
      "execution_count": null,
      "id": "cd8471f5",
      "metadata": {
        "id": "cd8471f5"
      },
      "outputs": [],
      "source": [
        "# Save the pip\n",
        "pkl_filename = \"pre_process_pip.pkl\"\n",
        "pickle.dump(tfidf_pip, open(pkl_filename, 'wb'))"
      ]
    },
    {
      "cell_type": "code",
      "execution_count": null,
      "id": "55b996c1",
      "metadata": {
        "id": "55b996c1"
      },
      "outputs": [],
      "source": [
        "# Save the lb_encoder\n",
        "pkl_filename = \"lb_encoder.pkl\"\n",
        "pickle.dump(lb_encoder, open(pkl_filename, 'wb'))"
      ]
    },
    {
      "cell_type": "code",
      "execution_count": null,
      "id": "2b3a2e6b",
      "metadata": {
        "id": "2b3a2e6b"
      },
      "outputs": [],
      "source": [
        "# Load the saved model\n",
        "with open(\"pre_process_pip.pkl\", 'rb') as file:\n",
        "    loaded_tfidf_pip = pickle.load(file)"
      ]
    },
    {
      "cell_type": "code",
      "execution_count": null,
      "id": "fc4d6ebf",
      "metadata": {
        "id": "fc4d6ebf"
      },
      "outputs": [],
      "source": [
        "# Load the saved model\n",
        "with open(\"classification_svg_model.pkl\", 'rb') as file:\n",
        "    loaded_model = pickle.load(file)"
      ]
    },
    {
      "cell_type": "code",
      "execution_count": null,
      "id": "70b0dee2",
      "metadata": {
        "id": "70b0dee2"
      },
      "outputs": [],
      "source": [
        "# Load the saved model\n",
        "with open(\"lb_encoder.pkl\", 'rb') as file:\n",
        "    loaded_lb_encoder = pickle.load(file)"
      ]
    },
    {
      "cell_type": "code",
      "execution_count": null,
      "id": "73987f80",
      "metadata": {
        "id": "73987f80",
        "outputId": "453aff6b-1647-42d1-b059-5539b685dcbb"
      },
      "outputs": [
        {
          "data": {
            "text/plain": [
              "0.7571338780641106"
            ]
          },
          "execution_count": 104,
          "metadata": {},
          "output_type": "execute_result"
        }
      ],
      "source": [
        "loaded_model.score(loaded_tfidf_pip.fit_transform(X_test), y_test)"
      ]
    },
    {
      "cell_type": "code",
      "execution_count": null,
      "id": "f84a3852",
      "metadata": {
        "id": "f84a3852"
      },
      "outputs": [],
      "source": [
        ""
      ]
    },
    {
      "cell_type": "code",
      "execution_count": null,
      "id": "8067fea7",
      "metadata": {
        "id": "8067fea7"
      },
      "outputs": [],
      "source": [
        ""
      ]
    },
    {
      "cell_type": "markdown",
      "id": "3657ce0e",
      "metadata": {
        "id": "3657ce0e"
      },
      "source": [
        "# Clustering"
      ]
    },
    {
      "cell_type": "code",
      "execution_count": null,
      "id": "3a56505f",
      "metadata": {
        "id": "3a56505f"
      },
      "outputs": [],
      "source": [
        "indDF = pd.read_csv('./data/indian_food.csv.xls')\n",
        "indDF = indDF.drop(['prep_time','cook_time','flavor_profile','course','state','region' , 'diet'] , axis=1)"
      ]
    },
    {
      "cell_type": "code",
      "execution_count": null,
      "id": "a1b44b00",
      "metadata": {
        "id": "a1b44b00",
        "outputId": "f51df4f5-c1cb-48f1-e454-e161ed25ea11"
      },
      "outputs": [
        {
          "data": {
            "text/html": [
              "<div>\n",
              "<style scoped>\n",
              "    .dataframe tbody tr th:only-of-type {\n",
              "        vertical-align: middle;\n",
              "    }\n",
              "\n",
              "    .dataframe tbody tr th {\n",
              "        vertical-align: top;\n",
              "    }\n",
              "\n",
              "    .dataframe thead th {\n",
              "        text-align: right;\n",
              "    }\n",
              "</style>\n",
              "<table border=\"1\" class=\"dataframe\">\n",
              "  <thead>\n",
              "    <tr style=\"text-align: right;\">\n",
              "      <th></th>\n",
              "      <th>name</th>\n",
              "      <th>ingredients</th>\n",
              "    </tr>\n",
              "  </thead>\n",
              "  <tbody>\n",
              "    <tr>\n",
              "      <th>0</th>\n",
              "      <td>Balu shahi</td>\n",
              "      <td>Maida flour, yogurt, oil, sugar</td>\n",
              "    </tr>\n",
              "    <tr>\n",
              "      <th>1</th>\n",
              "      <td>Boondi</td>\n",
              "      <td>Gram flour, ghee, sugar</td>\n",
              "    </tr>\n",
              "    <tr>\n",
              "      <th>2</th>\n",
              "      <td>Gajar ka halwa</td>\n",
              "      <td>Carrots, milk, sugar, ghee, cashews, raisins</td>\n",
              "    </tr>\n",
              "    <tr>\n",
              "      <th>3</th>\n",
              "      <td>Ghevar</td>\n",
              "      <td>Flour, ghee, kewra, milk, clarified butter, su...</td>\n",
              "    </tr>\n",
              "    <tr>\n",
              "      <th>4</th>\n",
              "      <td>Gulab jamun</td>\n",
              "      <td>Milk powder, plain flour, baking powder, ghee,...</td>\n",
              "    </tr>\n",
              "    <tr>\n",
              "      <th>...</th>\n",
              "      <td>...</td>\n",
              "      <td>...</td>\n",
              "    </tr>\n",
              "    <tr>\n",
              "      <th>250</th>\n",
              "      <td>Til Pitha</td>\n",
              "      <td>Glutinous rice, black sesame seeds, gur</td>\n",
              "    </tr>\n",
              "    <tr>\n",
              "      <th>251</th>\n",
              "      <td>Bebinca</td>\n",
              "      <td>Coconut milk, egg yolks, clarified butter, all...</td>\n",
              "    </tr>\n",
              "    <tr>\n",
              "      <th>252</th>\n",
              "      <td>Shufta</td>\n",
              "      <td>Cottage cheese, dry dates, dried rose petals, ...</td>\n",
              "    </tr>\n",
              "    <tr>\n",
              "      <th>253</th>\n",
              "      <td>Mawa Bati</td>\n",
              "      <td>Milk powder, dry fruits, arrowroot powder, all...</td>\n",
              "    </tr>\n",
              "    <tr>\n",
              "      <th>254</th>\n",
              "      <td>Pinaca</td>\n",
              "      <td>Brown rice, fennel seeds, grated coconut, blac...</td>\n",
              "    </tr>\n",
              "  </tbody>\n",
              "</table>\n",
              "<p>255 rows × 2 columns</p>\n",
              "</div>"
            ],
            "text/plain": [
              "               name                                        ingredients\n",
              "0        Balu shahi                    Maida flour, yogurt, oil, sugar\n",
              "1            Boondi                            Gram flour, ghee, sugar\n",
              "2    Gajar ka halwa       Carrots, milk, sugar, ghee, cashews, raisins\n",
              "3            Ghevar  Flour, ghee, kewra, milk, clarified butter, su...\n",
              "4       Gulab jamun  Milk powder, plain flour, baking powder, ghee,...\n",
              "..              ...                                                ...\n",
              "250       Til Pitha            Glutinous rice, black sesame seeds, gur\n",
              "251         Bebinca  Coconut milk, egg yolks, clarified butter, all...\n",
              "252          Shufta  Cottage cheese, dry dates, dried rose petals, ...\n",
              "253       Mawa Bati  Milk powder, dry fruits, arrowroot powder, all...\n",
              "254          Pinaca  Brown rice, fennel seeds, grated coconut, blac...\n",
              "\n",
              "[255 rows x 2 columns]"
            ]
          },
          "execution_count": 174,
          "metadata": {},
          "output_type": "execute_result"
        }
      ],
      "source": [
        "indDF"
      ]
    },
    {
      "cell_type": "code",
      "execution_count": null,
      "id": "a841a579",
      "metadata": {
        "id": "a841a579"
      },
      "outputs": [],
      "source": [
        "indDF['clean_ing'] = indDF.ingredients.map(lambda x: [clean(i).strip() for i in x.split(',')])"
      ]
    },
    {
      "cell_type": "code",
      "execution_count": null,
      "id": "8149369c",
      "metadata": {
        "id": "8149369c"
      },
      "outputs": [],
      "source": [
        "indDF['ing_sent'] = indDF['clean_ing'].map(lambda x: ','.join(x))"
      ]
    },
    {
      "cell_type": "code",
      "execution_count": null,
      "id": "8e27674b",
      "metadata": {
        "id": "8e27674b"
      },
      "outputs": [],
      "source": [
        "cuisinePred = loaded_model.predict(loaded_tfidf_pip.fit_transform(indDF['ing_sent']))"
      ]
    },
    {
      "cell_type": "code",
      "execution_count": null,
      "id": "0dda5dc2",
      "metadata": {
        "id": "0dda5dc2"
      },
      "outputs": [],
      "source": [
        "indDF['cusine_predict'] = cuisinePred"
      ]
    },
    {
      "cell_type": "code",
      "execution_count": null,
      "id": "468418fd",
      "metadata": {
        "id": "468418fd"
      },
      "outputs": [],
      "source": [
        "indDF['cusine_name'] = list(map(lambda x: loaded_lb_encoder.classes_[x], cuisinePred))"
      ]
    },
    {
      "cell_type": "code",
      "execution_count": null,
      "id": "8976d09d",
      "metadata": {
        "id": "8976d09d",
        "outputId": "aaa26ab2-f272-4f3c-cc9f-1ca6605eb29a"
      },
      "outputs": [
        {
          "data": {
            "text/html": [
              "<div>\n",
              "<style scoped>\n",
              "    .dataframe tbody tr th:only-of-type {\n",
              "        vertical-align: middle;\n",
              "    }\n",
              "\n",
              "    .dataframe tbody tr th {\n",
              "        vertical-align: top;\n",
              "    }\n",
              "\n",
              "    .dataframe thead th {\n",
              "        text-align: right;\n",
              "    }\n",
              "</style>\n",
              "<table border=\"1\" class=\"dataframe\">\n",
              "  <thead>\n",
              "    <tr style=\"text-align: right;\">\n",
              "      <th></th>\n",
              "      <th>name</th>\n",
              "      <th>ingredients</th>\n",
              "      <th>clean_ing</th>\n",
              "      <th>ing_sent</th>\n",
              "      <th>cusine_predict</th>\n",
              "      <th>cusine_name</th>\n",
              "    </tr>\n",
              "  </thead>\n",
              "  <tbody>\n",
              "    <tr>\n",
              "      <th>0</th>\n",
              "      <td>Balu shahi</td>\n",
              "      <td>Maida flour, yogurt, oil, sugar</td>\n",
              "      <td>[maida flour, yogurt, oil, sugar]</td>\n",
              "      <td>maida flour,yogurt,oil,sugar</td>\n",
              "      <td>3</td>\n",
              "      <td>chinese</td>\n",
              "    </tr>\n",
              "    <tr>\n",
              "      <th>1</th>\n",
              "      <td>Boondi</td>\n",
              "      <td>Gram flour, ghee, sugar</td>\n",
              "      <td>[gram flour, ghee, sugar]</td>\n",
              "      <td>gram flour,ghee,sugar</td>\n",
              "      <td>11</td>\n",
              "      <td>japanese</td>\n",
              "    </tr>\n",
              "    <tr>\n",
              "      <th>2</th>\n",
              "      <td>Gajar ka halwa</td>\n",
              "      <td>Carrots, milk, sugar, ghee, cashews, raisins</td>\n",
              "      <td>[carrot, milk, sugar, ghee, cashew, raisin]</td>\n",
              "      <td>carrot,milk,sugar,ghee,cashew,raisin</td>\n",
              "      <td>7</td>\n",
              "      <td>indian</td>\n",
              "    </tr>\n",
              "    <tr>\n",
              "      <th>3</th>\n",
              "      <td>Ghevar</td>\n",
              "      <td>Flour, ghee, kewra, milk, clarified butter, su...</td>\n",
              "      <td>[flour, ghee, kewra, milk, clarifi butter, sug...</td>\n",
              "      <td>flour,ghee,kewra,milk,clarifi butter,sugar,alm...</td>\n",
              "      <td>7</td>\n",
              "      <td>indian</td>\n",
              "    </tr>\n",
              "    <tr>\n",
              "      <th>4</th>\n",
              "      <td>Gulab jamun</td>\n",
              "      <td>Milk powder, plain flour, baking powder, ghee,...</td>\n",
              "      <td>[milk powder, plain flour, bake powder, ghee, ...</td>\n",
              "      <td>milk powder,plain flour,bake powder,ghee,milk,...</td>\n",
              "      <td>4</td>\n",
              "      <td>filipino</td>\n",
              "    </tr>\n",
              "  </tbody>\n",
              "</table>\n",
              "</div>"
            ],
            "text/plain": [
              "             name                                        ingredients  \\\n",
              "0      Balu shahi                    Maida flour, yogurt, oil, sugar   \n",
              "1          Boondi                            Gram flour, ghee, sugar   \n",
              "2  Gajar ka halwa       Carrots, milk, sugar, ghee, cashews, raisins   \n",
              "3          Ghevar  Flour, ghee, kewra, milk, clarified butter, su...   \n",
              "4     Gulab jamun  Milk powder, plain flour, baking powder, ghee,...   \n",
              "\n",
              "                                           clean_ing  \\\n",
              "0                  [maida flour, yogurt, oil, sugar]   \n",
              "1                          [gram flour, ghee, sugar]   \n",
              "2        [carrot, milk, sugar, ghee, cashew, raisin]   \n",
              "3  [flour, ghee, kewra, milk, clarifi butter, sug...   \n",
              "4  [milk powder, plain flour, bake powder, ghee, ...   \n",
              "\n",
              "                                            ing_sent  cusine_predict  \\\n",
              "0                       maida flour,yogurt,oil,sugar               3   \n",
              "1                              gram flour,ghee,sugar              11   \n",
              "2               carrot,milk,sugar,ghee,cashew,raisin               7   \n",
              "3  flour,ghee,kewra,milk,clarifi butter,sugar,alm...               7   \n",
              "4  milk powder,plain flour,bake powder,ghee,milk,...               4   \n",
              "\n",
              "  cusine_name  \n",
              "0     chinese  \n",
              "1    japanese  \n",
              "2      indian  \n",
              "3      indian  \n",
              "4    filipino  "
            ]
          },
          "execution_count": 188,
          "metadata": {},
          "output_type": "execute_result"
        }
      ],
      "source": [
        "indDF.head()"
      ]
    },
    {
      "cell_type": "code",
      "execution_count": null,
      "id": "d2ac3df9",
      "metadata": {
        "id": "d2ac3df9"
      },
      "outputs": [],
      "source": [
        "all_unique_tokens = indDF.clean_ing.tolist()\n",
        "all_unique_tokens.append(indDF.cusine_name.tolist())\n",
        "all_unique_tokens = list(set(sum(all_unique_tokens, [])))"
      ]
    },
    {
      "cell_type": "code",
      "execution_count": null,
      "id": "8df4b279",
      "metadata": {
        "id": "8df4b279",
        "outputId": "245174c3-9a8f-4a1a-fa3b-3f697bbb5369"
      },
      "outputs": [
        {
          "data": {
            "text/plain": [
              "366"
            ]
          },
          "execution_count": 203,
          "metadata": {},
          "output_type": "execute_result"
        }
      ],
      "source": [
        "len(all_unique_tokens)"
      ]
    },
    {
      "cell_type": "code",
      "execution_count": null,
      "id": "1fe3b03f",
      "metadata": {
        "id": "1fe3b03f"
      },
      "outputs": [],
      "source": [
        "tfidf_pip = Pipeline([('count', CountVectorizer(vocabulary=all_unique_tokens)),\n",
        "                    ('tfid', TfidfTransformer())])"
      ]
    },
    {
      "cell_type": "code",
      "execution_count": null,
      "id": "de72234a",
      "metadata": {
        "id": "de72234a"
      },
      "outputs": [],
      "source": [
        "sentences = [i+', '+j for i,j in zip(indDF.ing_sent, indDF.cusine_name)]"
      ]
    },
    {
      "cell_type": "code",
      "execution_count": null,
      "id": "ac7896fc",
      "metadata": {
        "id": "ac7896fc"
      },
      "outputs": [],
      "source": [
        "X = tfidf_pip.fit_transform(sentences)"
      ]
    },
    {
      "cell_type": "code",
      "execution_count": null,
      "id": "efe09266",
      "metadata": {
        "id": "efe09266"
      },
      "outputs": [],
      "source": [
        "clusters_num = 40"
      ]
    },
    {
      "cell_type": "code",
      "execution_count": null,
      "id": "7dfe1fb1",
      "metadata": {
        "id": "7dfe1fb1",
        "outputId": "5563ba14-859c-48ff-db0c-0d769c09247f"
      },
      "outputs": [
        {
          "name": "stderr",
          "output_type": "stream",
          "text": [
            "/var/folders/pb/5rmhgjf15nn4q65__q6r6xg40000gn/T/ipykernel_12443/1791159269.py:4: UserWarning: color is redundantly defined by the 'color' keyword argument and the fmt string \"bo-\" (-> color='b'). The keyword argument will take precedence.\n",
            "  plt.plot(range(2,clusters_num) , silhouetteSocres ,'bo-' , color='blue' , linewidth=3 , markersize =8)\n"
          ]
        },
        {
          "data": {
            "text/plain": [
              "[<matplotlib.lines.Line2D at 0x2a6e88910>]"
            ]
          },
          "execution_count": 223,
          "metadata": {},
          "output_type": "execute_result"
        },
        {
          "data": {
            "image/png": "[encoded data removed]",
            "text/plain": [
              "<Figure size 1152x360 with 1 Axes>"
            ]
          },
          "metadata": {
            "needs_background": "light"
          },
          "output_type": "display_data"
        }
      ],
      "source": [
        "kmeanPerK = [KMeans(n_clusters=k , random_state=500).fit(X) for k in range(1,clusters_num)]\n",
        "silhouetteSocres  =  [silhouette_score(X , model.labels_) for model  in kmeanPerK[1:]]\n",
        "rcParams['figure.figsize'] =16,5\n",
        "plt.plot(range(2,clusters_num) , silhouetteSocres ,'bo-' , color='blue' , linewidth=3 , markersize =8)"
      ]
    },
    {
      "cell_type": "code",
      "execution_count": null,
      "id": "ec5efdfe",
      "metadata": {
        "id": "ec5efdfe",
        "outputId": "91f14289-1eeb-4359-bd9c-d6527a14be8a"
      },
      "outputs": [
        {
          "data": {
            "text/plain": [
              "[<matplotlib.lines.Line2D at 0x2a6eec790>]"
            ]
          },
          "execution_count": 224,
          "metadata": {},
          "output_type": "execute_result"
        },
        {
          "data": {
            "image/png": "[encoded data removed]",
            "text/plain": [
              "<Figure size 1152x360 with 1 Axes>"
            ]
          },
          "metadata": {
            "needs_background": "light"
          },
          "output_type": "display_data"
        }
      ],
      "source": [
        "\n",
        "sse = []\n",
        "k_rng = range(1,clusters_num)\n",
        "for k in k_rng:\n",
        "    km = KMeans(n_clusters=k , random_state=500)\n",
        "    km.fit(X)\n",
        "    sse.append(km.inertia_)\n",
        "plt.xlabel('K')\n",
        "plt.ylabel('Sum of squared error')\n",
        "plt.plot(k_rng,sse)"
      ]
    },
    {
      "cell_type": "code",
      "execution_count": null,
      "id": "136a5be9",
      "metadata": {
        "id": "136a5be9",
        "outputId": "43894d8d-8b07-44c0-b871-a0892fca6958"
      },
      "outputs": [
        {
          "data": {
            "text/html": [
              "<style>#sk-container-id-3 {color: black;background-color: white;}#sk-container-id-3 pre{padding: 0;}#sk-container-id-3 div.sk-toggleable {background-color: white;}#sk-container-id-3 label.sk-toggleable__label {cursor: pointer;display: block;width: 100%;margin-bottom: 0;padding: 0.3em;box-sizing: border-box;text-align: center;}#sk-container-id-3 label.sk-toggleable__label-arrow:before {content: \"▸\";float: left;margin-right: 0.25em;color: #696969;}#sk-container-id-3 label.sk-toggleable__label-arrow:hover:before {color: black;}#sk-container-id-3 div.sk-estimator:hover label.sk-toggleable__label-arrow:before {color: black;}#sk-container-id-3 div.sk-toggleable__content {max-height: 0;max-width: 0;overflow: hidden;text-align: left;background-color: #f0f8ff;}#sk-container-id-3 div.sk-toggleable__content pre {margin: 0.2em;color: black;border-radius: 0.25em;background-color: #f0f8ff;}#sk-container-id-3 input.sk-toggleable__control:checked~div.sk-toggleable__content {max-height: 200px;max-width: 100%;overflow: auto;}#sk-container-id-3 input.sk-toggleable__control:checked~label.sk-toggleable__label-arrow:before {content: \"▾\";}#sk-container-id-3 div.sk-estimator input.sk-toggleable__control:checked~label.sk-toggleable__label {background-color: #d4ebff;}#sk-container-id-3 div.sk-label input.sk-toggleable__control:checked~label.sk-toggleable__label {background-color: #d4ebff;}#sk-container-id-3 input.sk-hidden--visually {border: 0;clip: rect(1px 1px 1px 1px);clip: rect(1px, 1px, 1px, 1px);height: 1px;margin: -1px;overflow: hidden;padding: 0;position: absolute;width: 1px;}#sk-container-id-3 div.sk-estimator {font-family: monospace;background-color: #f0f8ff;border: 1px dotted black;border-radius: 0.25em;box-sizing: border-box;margin-bottom: 0.5em;}#sk-container-id-3 div.sk-estimator:hover {background-color: #d4ebff;}#sk-container-id-3 div.sk-parallel-item::after {content: \"\";width: 100%;border-bottom: 1px solid gray;flex-grow: 1;}#sk-container-id-3 div.sk-label:hover label.sk-toggleable__label {background-color: #d4ebff;}#sk-container-id-3 div.sk-serial::before {content: \"\";position: absolute;border-left: 1px solid gray;box-sizing: border-box;top: 0;bottom: 0;left: 50%;z-index: 0;}#sk-container-id-3 div.sk-serial {display: flex;flex-direction: column;align-items: center;background-color: white;padding-right: 0.2em;padding-left: 0.2em;position: relative;}#sk-container-id-3 div.sk-item {position: relative;z-index: 1;}#sk-container-id-3 div.sk-parallel {display: flex;align-items: stretch;justify-content: center;background-color: white;position: relative;}#sk-container-id-3 div.sk-item::before, #sk-container-id-3 div.sk-parallel-item::before {content: \"\";position: absolute;border-left: 1px solid gray;box-sizing: border-box;top: 0;bottom: 0;left: 50%;z-index: -1;}#sk-container-id-3 div.sk-parallel-item {display: flex;flex-direction: column;z-index: 1;position: relative;background-color: white;}#sk-container-id-3 div.sk-parallel-item:first-child::after {align-self: flex-end;width: 50%;}#sk-container-id-3 div.sk-parallel-item:last-child::after {align-self: flex-start;width: 50%;}#sk-container-id-3 div.sk-parallel-item:only-child::after {width: 0;}#sk-container-id-3 div.sk-dashed-wrapped {border: 1px dashed gray;margin: 0 0.4em 0.5em 0.4em;box-sizing: border-box;padding-bottom: 0.4em;background-color: white;}#sk-container-id-3 div.sk-label label {font-family: monospace;font-weight: bold;display: inline-block;line-height: 1.2em;}#sk-container-id-3 div.sk-label-container {text-align: center;}#sk-container-id-3 div.sk-container {/* jupyter's `normalize.less` sets `[hidden] { display: none; }` but bootstrap.min.css set `[hidden] { display: none !important; }` so we also need the `!important` here to be able to override the default hidden behavior on the sphinx rendered scikit-learn.org. See: https://github.com/scikit-learn/scikit-learn/issues/21755 */display: inline-block !important;position: relative;}#sk-container-id-3 div.sk-text-repr-fallback {display: none;}</style><div id=\"sk-container-id-3\" class=\"sk-top-container\"><div class=\"sk-text-repr-fallback\"><pre>KMeans(n_clusters=28, random_state=500)</pre><b>In a Jupyter environment, please rerun this cell to show the HTML representation or trust the notebook. <br />On GitHub, the HTML representation is unable to render, please try loading this page with nbviewer.org.</b></div><div class=\"sk-container\" hidden><div class=\"sk-item\"><div class=\"sk-estimator sk-toggleable\"><input class=\"sk-toggleable__control sk-hidden--visually\" id=\"sk-estimator-id-5\" type=\"checkbox\" checked><label for=\"sk-estimator-id-5\" class=\"sk-toggleable__label sk-toggleable__label-arrow\">KMeans</label><div class=\"sk-toggleable__content\"><pre>KMeans(n_clusters=28, random_state=500)</pre></div></div></div></div></div>"
            ],
            "text/plain": [
              "KMeans(n_clusters=28, random_state=500)"
            ]
          },
          "execution_count": 225,
          "metadata": {},
          "output_type": "execute_result"
        }
      ],
      "source": [
        "km = KMeans(n_clusters=28 , random_state=500)\n",
        "km.fit(X)"
      ]
    },
    {
      "cell_type": "code",
      "execution_count": null,
      "id": "7b8f93b7",
      "metadata": {
        "id": "7b8f93b7"
      },
      "outputs": [],
      "source": [
        "indDF['cluster_num'] = km.predict(X)"
      ]
    },
    {
      "cell_type": "code",
      "execution_count": null,
      "id": "7ff142fe",
      "metadata": {
        "id": "7ff142fe",
        "outputId": "008098b6-af8a-42ec-fcd3-02046623b427"
      },
      "outputs": [
        {
          "data": {
            "text/html": [
              "<div>\n",
              "<style scoped>\n",
              "    .dataframe tbody tr th:only-of-type {\n",
              "        vertical-align: middle;\n",
              "    }\n",
              "\n",
              "    .dataframe tbody tr th {\n",
              "        vertical-align: top;\n",
              "    }\n",
              "\n",
              "    .dataframe thead th {\n",
              "        text-align: right;\n",
              "    }\n",
              "</style>\n",
              "<table border=\"1\" class=\"dataframe\">\n",
              "  <thead>\n",
              "    <tr style=\"text-align: right;\">\n",
              "      <th></th>\n",
              "      <th>name</th>\n",
              "      <th>ingredients</th>\n",
              "      <th>clean_ing</th>\n",
              "      <th>ing_sent</th>\n",
              "      <th>cusine_predict</th>\n",
              "      <th>cusine_name</th>\n",
              "      <th>cluster_num</th>\n",
              "    </tr>\n",
              "  </thead>\n",
              "  <tbody>\n",
              "    <tr>\n",
              "      <th>0</th>\n",
              "      <td>Balu shahi</td>\n",
              "      <td>Maida flour, yogurt, oil, sugar</td>\n",
              "      <td>[maida flour, yogurt, oil, sugar]</td>\n",
              "      <td>maida flour,yogurt,oil,sugar</td>\n",
              "      <td>3</td>\n",
              "      <td>chinese</td>\n",
              "      <td>26</td>\n",
              "    </tr>\n",
              "    <tr>\n",
              "      <th>1</th>\n",
              "      <td>Boondi</td>\n",
              "      <td>Gram flour, ghee, sugar</td>\n",
              "      <td>[gram flour, ghee, sugar]</td>\n",
              "      <td>gram flour,ghee,sugar</td>\n",
              "      <td>11</td>\n",
              "      <td>japanese</td>\n",
              "      <td>2</td>\n",
              "    </tr>\n",
              "    <tr>\n",
              "      <th>2</th>\n",
              "      <td>Gajar ka halwa</td>\n",
              "      <td>Carrots, milk, sugar, ghee, cashews, raisins</td>\n",
              "      <td>[carrot, milk, sugar, ghee, cashew, raisin]</td>\n",
              "      <td>carrot,milk,sugar,ghee,cashew,raisin</td>\n",
              "      <td>7</td>\n",
              "      <td>indian</td>\n",
              "      <td>25</td>\n",
              "    </tr>\n",
              "    <tr>\n",
              "      <th>3</th>\n",
              "      <td>Ghevar</td>\n",
              "      <td>Flour, ghee, kewra, milk, clarified butter, su...</td>\n",
              "      <td>[flour, ghee, kewra, milk, clarifi butter, sug...</td>\n",
              "      <td>flour,ghee,kewra,milk,clarifi butter,sugar,alm...</td>\n",
              "      <td>7</td>\n",
              "      <td>indian</td>\n",
              "      <td>10</td>\n",
              "    </tr>\n",
              "    <tr>\n",
              "      <th>4</th>\n",
              "      <td>Gulab jamun</td>\n",
              "      <td>Milk powder, plain flour, baking powder, ghee,...</td>\n",
              "      <td>[milk powder, plain flour, bake powder, ghee, ...</td>\n",
              "      <td>milk powder,plain flour,bake powder,ghee,milk,...</td>\n",
              "      <td>4</td>\n",
              "      <td>filipino</td>\n",
              "      <td>25</td>\n",
              "    </tr>\n",
              "  </tbody>\n",
              "</table>\n",
              "</div>"
            ],
            "text/plain": [
              "             name                                        ingredients  \\\n",
              "0      Balu shahi                    Maida flour, yogurt, oil, sugar   \n",
              "1          Boondi                            Gram flour, ghee, sugar   \n",
              "2  Gajar ka halwa       Carrots, milk, sugar, ghee, cashews, raisins   \n",
              "3          Ghevar  Flour, ghee, kewra, milk, clarified butter, su...   \n",
              "4     Gulab jamun  Milk powder, plain flour, baking powder, ghee,...   \n",
              "\n",
              "                                           clean_ing  \\\n",
              "0                  [maida flour, yogurt, oil, sugar]   \n",
              "1                          [gram flour, ghee, sugar]   \n",
              "2        [carrot, milk, sugar, ghee, cashew, raisin]   \n",
              "3  [flour, ghee, kewra, milk, clarifi butter, sug...   \n",
              "4  [milk powder, plain flour, bake powder, ghee, ...   \n",
              "\n",
              "                                            ing_sent  cusine_predict  \\\n",
              "0                       maida flour,yogurt,oil,sugar               3   \n",
              "1                              gram flour,ghee,sugar              11   \n",
              "2               carrot,milk,sugar,ghee,cashew,raisin               7   \n",
              "3  flour,ghee,kewra,milk,clarifi butter,sugar,alm...               7   \n",
              "4  milk powder,plain flour,bake powder,ghee,milk,...               4   \n",
              "\n",
              "  cusine_name  cluster_num  \n",
              "0     chinese           26  \n",
              "1    japanese            2  \n",
              "2      indian           25  \n",
              "3      indian           10  \n",
              "4    filipino           25  "
            ]
          },
          "execution_count": 233,
          "metadata": {},
          "output_type": "execute_result"
        }
      ],
      "source": [
        "indDF.head()"
      ]
    },
    {
      "cell_type": "code",
      "execution_count": null,
      "id": "b081f437",
      "metadata": {
        "id": "b081f437"
      },
      "outputs": [],
      "source": [
        "indDF.to_csv('dishes_with_clusters.csv')"
      ]
    },
    {
      "cell_type": "code",
      "execution_count": null,
      "id": "799aa30d",
      "metadata": {
        "id": "799aa30d"
      },
      "outputs": [],
      "source": [
        "# Save the model\n",
        "pkl_filename = \"km_model.pkl\"\n",
        "pickle.dump(km, open(pkl_filename, 'wb'))"
      ]
    },
    {
      "cell_type": "code",
      "execution_count": null,
      "id": "500ed880",
      "metadata": {
        "id": "500ed880"
      },
      "outputs": [],
      "source": [
        "# Load the saved model\n",
        "with open(\"km_model.pkl\", 'rb') as file:\n",
        "    loaded_km_model = pickle.load(file)"
      ]
    },
    {
      "cell_type": "code",
      "execution_count": null,
      "id": "ac42231f",
      "metadata": {
        "id": "ac42231f"
      },
      "outputs": [],
      "source": [
        "# Save the model\n",
        "pkl_filename = \"km_tfidf_pip.pkl\"\n",
        "pickle.dump(tfidf_pip, open(pkl_filename, 'wb'))"
      ]
    },
    {
      "cell_type": "code",
      "execution_count": null,
      "id": "aa26c37d",
      "metadata": {
        "id": "aa26c37d"
      },
      "outputs": [],
      "source": [
        "# Load the saved model\n",
        "with open(\"km_tfidf_pip.pkl\", 'rb') as file:\n",
        "    loaded_km_tfidf_pip = pickle.load(file)"
      ]
    },
    {
      "cell_type": "code",
      "execution_count": null,
      "id": "834558ab",
      "metadata": {
        "id": "834558ab"
      },
      "outputs": [],
      "source": [
        "loaded_dishes = pd.read_csv('dishes_with_clusters.csv')\n",
        "loaded_indDF = pd.read_csv('./data/indian_food.csv.xls')"
      ]
    },
    {
      "cell_type": "markdown",
      "id": "e84cfca4",
      "metadata": {
        "id": "e84cfca4"
      },
      "source": [
        "# how to predict"
      ]
    },
    {
      "cell_type": "code",
      "execution_count": null,
      "id": "119f1ee0",
      "metadata": {
        "id": "119f1ee0"
      },
      "outputs": [],
      "source": [
        "sample = \"oil, sugar, meat\""
      ]
    },
    {
      "cell_type": "code",
      "execution_count": null,
      "id": "5f0c0a5e",
      "metadata": {
        "id": "5f0c0a5e"
      },
      "outputs": [],
      "source": [
        "cuisine = loaded_model.predict(loaded_tfidf_pip.fit_transform([sample]))[0]\n",
        "cuisine_name = loaded_lb_encoder.classes_[cuisine]"
      ]
    },
    {
      "cell_type": "code",
      "execution_count": null,
      "id": "5eebfb30",
      "metadata": {
        "id": "5eebfb30"
      },
      "outputs": [],
      "source": [
        "cluster_num = loaded_km_model.predict(loaded_km_tfidf_pip.fit_transform([f\"{sample}, {cuisine_name}\"]))[0]"
      ]
    },
    {
      "cell_type": "code",
      "execution_count": null,
      "id": "bff8e0b0",
      "metadata": {
        "id": "bff8e0b0"
      },
      "outputs": [],
      "source": [
        "filterd_df = loaded_dishes[loaded_dishes.cluster_num == cluster_num].sample(5)"
      ]
    },
    {
      "cell_type": "code",
      "execution_count": null,
      "id": "3f97a9c1",
      "metadata": {
        "id": "3f97a9c1"
      },
      "outputs": [],
      "source": [
        ""
      ]
    },
    {
      "cell_type": "code",
      "execution_count": null,
      "id": "18acd05c",
      "metadata": {
        "id": "18acd05c"
      },
      "outputs": [],
      "source": [
        ""
      ]
    }
  ],
  "metadata": {
    "kernelspec": {
      "display_name": "Python 3 (ipykernel)",
      "language": "python",
      "name": "python3"
    },
    "language_info": {
      "codemirror_mode": {
        "name": "ipython",
        "version": 3
      },
      "file_extension": ".py",
      "mimetype": "text/x-python",
      "name": "python",
      "nbconvert_exporter": "python",
      "pygments_lexer": "ipython3",
      "version": "3.9.7"
    },
    "colab": {
      "name": "Reccomend.ipynb",
      "provenance": [],
      "collapsed_sections": []
    }
  },
  "nbformat": 4,
  "nbformat_minor": 5
}