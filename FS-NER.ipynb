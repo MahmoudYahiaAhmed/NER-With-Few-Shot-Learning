{
 "cells": [
  {
   "cell_type": "markdown",
   "id": "2c9c014b",
   "metadata": {},
   "source": [
    "# Few-shot NER"
   ]
  },
  {
   "cell_type": "code",
   "execution_count": 1408,
   "id": "29af7737",
   "metadata": {},
   "outputs": [],
   "source": [
    "colors = [\"#7aecec\", \"#bfeeb7\", \"#feca74\", \"#ff9561\", \"#aa9cfc\", \"#c887fb\", \"#9cc9cc\", \"#ffeb80\",\n",
    "          \"#ff8197\", \"#ff8197\", \"#f0d0ff\", \"#bfe1d9\", \"#bfe1d9\", \"#e4e7d2\", \"#e4e7d2\", \"#e4e7d2\",\n",
    "          \"#e4e7d2\", \"#e4e7d2\"]"
   ]
  },
  {
   "cell_type": "code",
   "execution_count": 1409,
   "id": "e57d7982",
   "metadata": {},
   "outputs": [],
   "source": [
    "from transformers import pipeline\n",
    "import re\n",
    "from spacy.matcher import DependencyMatcher \n",
    "import spacy\n",
    "from spacy import displacy\n",
    "from spacy.pipeline import EntityRuler"
   ]
  },
  {
   "cell_type": "code",
   "execution_count": 1410,
   "id": "c57a41c5",
   "metadata": {},
   "outputs": [
    {
     "name": "stderr",
     "output_type": "stream",
     "text": [
      "/Users/umer/miniforge3/envs/ml/lib/python3.9/site-packages/transformers/convert_slow_tokenizer.py:434: UserWarning: The sentencepiece tokenizer that you are converting to a fast tokenizer uses the byte fallback option which is not implemented in the fast tokenizers. In practice this means that the fast version of the tokenizer can produce unknown tokens whereas the sentencepiece version would have converted these unknown tokens into a sequence of byte tokens matching the original piece of text.\n",
      "  warnings.warn(\n"
     ]
    }
   ],
   "source": [
    "nlp = spacy.load(\"en_core_web_sm\", disable=[\"ner\"])\n",
    "ruler = nlp.add_pipe(\"entity_ruler\", config={\"overwrite_ents\": True})\n",
    "\n",
    "zero_shot_classifier = pipeline(\"zero-shot-classification\",\n",
    "                                model=\"MoritzLaurer/mDeBERTa-v3-base-mnli-xnli\")"
   ]
  },
  {
   "cell_type": "code",
   "execution_count": 1564,
   "id": "049e36e6",
   "metadata": {},
   "outputs": [],
   "source": [
    "text = \"I taken the lunch, yesterday in Apple company, it was a mashed potato with smoked beef\""
   ]
  },
  {
   "cell_type": "code",
   "execution_count": 1565,
   "id": "1a16a67c",
   "metadata": {},
   "outputs": [],
   "source": [
    "org_entities = {\"fruite\"     :    [\"apple\", 'avocado', 'banana', 'orange'],\n",
    "                \"vegetable\"  :    [\"carrot\", \"cabbage\", 'broccoli'],\n",
    "                \"meat\"       :    [\"beef\", \"lamb\", 'chicken'],\n",
    "                \"fish\"       :    [\"salamon\", \"shrimp\", \"tuna\"],\n",
    "                \"spices\"     :    [\"angelica\", \"allspice\", \"cumin\"],\n",
    "                \"ingredient\" :    ['oil', 'salt', 'sugar'],\n",
    "                \"vehicle\"    :    ['bus', 'truck'],\n",
    "                \"other\"      :    []}\n",
    "\n",
    "org_entities_map = {v:k for k in org_entities.keys() for v in org_entities[k]}\n",
    "for k in org_entities.keys():\n",
    "    org_entities_map[k] = k\n",
    "\n",
    "entities = sum(org_entities.values(), []) + list(org_entities.keys())\n",
    "\n",
    "CONF_TH = 0.01"
   ]
  },
  {
   "cell_type": "markdown",
   "id": "04b528a5",
   "metadata": {},
   "source": [
    "# Preprocessing"
   ]
  },
  {
   "cell_type": "code",
   "execution_count": 1566,
   "id": "5a26fee3",
   "metadata": {},
   "outputs": [],
   "source": [
    "def clean(txt):\n",
    "    '''\n",
    "    Elminate any non word character from the input text, and remove any additionl spaces.\n",
    "    \n",
    "    Args:\n",
    "      - txt (string) -> the unclean text.\n",
    "    '''\n",
    "#     txt = re.sub(r'\\W', ' ', txt)\n",
    "#     txt = re.sub(r' \\w ', ' ', txt)\n",
    "#     txt = re.sub(r' +', ' ', txt)\n",
    "    return txt.strip().lower()"
   ]
  },
  {
   "cell_type": "code",
   "execution_count": 1567,
   "id": "33c6b3b6",
   "metadata": {},
   "outputs": [],
   "source": [
    "clean_text = clean(text)"
   ]
  },
  {
   "cell_type": "markdown",
   "id": "c23e1624",
   "metadata": {},
   "source": [
    "# POS & Dependency Tree"
   ]
  },
  {
   "cell_type": "code",
   "execution_count": 1568,
   "id": "1834e8fc",
   "metadata": {},
   "outputs": [],
   "source": [
    "doc = nlp(clean_text)"
   ]
  },
  {
   "cell_type": "code",
   "execution_count": 1569,
   "id": "f9743a80",
   "metadata": {},
   "outputs": [],
   "source": [
    "# displacy.render(doc, style='dep')"
   ]
  },
  {
   "cell_type": "code",
   "execution_count": 1570,
   "id": "47f6484a",
   "metadata": {},
   "outputs": [],
   "source": [
    "patterns = [\n",
    "    # ADJ -> NOUN\n",
    "    [{\"RIGHT_ID\": \"adj\", \"RIGHT_ATTRS\": {\"POS\": \"ADJ\"}},\n",
    "     {\"LEFT_ID\": \"adj\", \"REL_OP\": \"<\", \"RIGHT_ID\": \"subject\", \"RIGHT_ATTRS\": { \"POS\": \"NOUN\"}}],\n",
    "            \n",
    "    # NOUN\n",
    "    [{\"RIGHT_ID\": \"noun\", \"RIGHT_ATTRS\": {\"POS\": \"NOUN\"}}],\n",
    "    \n",
    "    # NOUN . NOUN\n",
    "    [{\"RIGHT_ID\": \"noun\", \"RIGHT_ATTRS\": {\"POS\": \"NOUN\"}},\n",
    "     {\"LEFT_ID\": \"noun\", \"REL_OP\": \".\", \"RIGHT_ID\": \"subject\", \"RIGHT_ATTRS\": { \"POS\": \"NOUN\"}}],\n",
    "    \n",
    "    # PROPN\n",
    "    [{\"RIGHT_ID\": \"pnoun\",\"RIGHT_ATTRS\": {\"POS\": \"PROPN\"}}],\n",
    "    \n",
    "    # PROPN << NOUN\n",
    "    [{\"RIGHT_ID\": \"pnoun\",\"RIGHT_ATTRS\": {\"POS\": \"PROPN\"}},\n",
    "     {\"LEFT_ID\": \"pnoun\", \"REL_OP\": \"<<\", \"RIGHT_ID\": \"subject\", \"RIGHT_ATTRS\": { \"POS\": \"NOUN\"}}],\n",
    "    \n",
    "    # PROPN << PROPN\n",
    "    [{\"RIGHT_ID\": \"pnoun\", \"RIGHT_ATTRS\": {\"POS\": \"PROPN\"}},\n",
    "     {\"LEFT_ID\": \"pnoun\", \"REL_OP\": \"<<\", \"RIGHT_ID\": \"subject\", \"RIGHT_ATTRS\": { \"POS\": \"PROPN\"}}],\n",
    "    \n",
    "    # VERB < NOUN\n",
    "    [{\"RIGHT_ID\": \"verb\",\"RIGHT_ATTRS\": {\"POS\": \"VERB\"}},\n",
    "     {\"LEFT_ID\": \"verb\", \"REL_OP\": \"<\", \"RIGHT_ID\": \"subject\", \"RIGHT_ATTRS\": { \"POS\": \"NOUN\"}}],\n",
    "]\n",
    "\n",
    "matcher = DependencyMatcher(nlp.vocab)\n",
    "matcher.add(\"entities\", patterns)"
   ]
  },
  {
   "cell_type": "code",
   "execution_count": 1571,
   "id": "5be63a9c",
   "metadata": {},
   "outputs": [],
   "source": [
    "matches = matcher(doc)\n",
    "spans = []\n",
    "for match_id, start in matches:\n",
    "    if len(start) > 1:\n",
    "        start, end = start[0], start[1]+1\n",
    "    else:\n",
    "        start, end = start[0], start[0]+1\n",
    "    spans.append(doc[start:end])\n",
    "filterd_spans = list(spacy.util.filter_spans(spans))"
   ]
  },
  {
   "cell_type": "code",
   "execution_count": 1572,
   "id": "aa47f64b",
   "metadata": {},
   "outputs": [
    {
     "data": {
      "text/plain": [
       "[lunch, yesterday, apple company, mashed potato, smoked beef]"
      ]
     },
     "execution_count": 1572,
     "metadata": {},
     "output_type": "execute_result"
    }
   ],
   "source": [
    "filterd_spans"
   ]
  },
  {
   "cell_type": "code",
   "execution_count": 1573,
   "id": "1f06dfde",
   "metadata": {},
   "outputs": [],
   "source": [
    "results = zero_shot_classifier([str(s) for s in filterd_spans], list(entities))"
   ]
  },
  {
   "cell_type": "code",
   "execution_count": 1574,
   "id": "b273d4d5",
   "metadata": {},
   "outputs": [],
   "source": [
    "def get_highest_score_label(res):\n",
    "    scores = {}\n",
    "    for sc, label in zip(res['scores'], res['labels']):\n",
    "        org_key = org_entities_map[label]\n",
    "        scores[org_key] = scores.get(org_key, 0) + sc\n",
    "    return sorted(scores.items(), key=lambda x: x[1], reverse=True)[0]\n",
    "\n",
    "new_results = []\n",
    "for res in results:\n",
    "    label, score = get_highest_score_label(res)\n",
    "    new_results.append({\"sequence\": res['sequence'], \"labels\": [label], \"scores\": [score]})\n",
    "results = new_results"
   ]
  },
  {
   "cell_type": "code",
   "execution_count": 1575,
   "id": "04e23afb",
   "metadata": {},
   "outputs": [],
   "source": [
    "results_map = {i['sequence']:i for i in results}"
   ]
  },
  {
   "cell_type": "code",
   "execution_count": 1576,
   "id": "5ec0e7ac",
   "metadata": {},
   "outputs": [],
   "source": [
    "options = {\"colors\": {k:v for k,v in zip(list(org_entities.keys()), colors)},\n",
    "           \"ents\": list(org_entities.keys()),\n",
    "           'distance': 90}"
   ]
  },
  {
   "cell_type": "code",
   "execution_count": 1577,
   "id": "24341992",
   "metadata": {},
   "outputs": [],
   "source": [
    "nlp.remove_pipe(\"entity_ruler\")\n",
    "ruler = nlp.add_pipe(\"entity_ruler\", config={\"overwrite_ents\": True})\n",
    "\n",
    "for res in results:\n",
    "    if res['scores'][0]> CONF_TH:\n",
    "        ruler.add_patterns( [{\"label\": res['labels'][0], \"pattern\": [{\"TEXT\": t} for t in res['sequence'].split()]}] )\n",
    "    "
   ]
  },
  {
   "cell_type": "code",
   "execution_count": 1578,
   "id": "0e95fe88",
   "metadata": {},
   "outputs": [],
   "source": [
    "doc = nlp(clean_text)"
   ]
  },
  {
   "cell_type": "code",
   "execution_count": 1579,
   "id": "35d65580",
   "metadata": {},
   "outputs": [],
   "source": [
    "ents = doc.ents\n",
    "for ent in ents:\n",
    "    scr = results_map[str(ent)]['scores'][0]\n",
    "    new_label = f\"{ent.label_} ({float(scr):.0%})\"\n",
    "    options[\"colors\"][new_label] = options[\"colors\"].get(ent.label_.lower(), None)\n",
    "    options[\"ents\"].append(new_label)\n",
    "    ent.label_ = new_label\n",
    "doc.ents = ents"
   ]
  },
  {
   "cell_type": "code",
   "execution_count": 1580,
   "id": "f2b3c427",
   "metadata": {},
   "outputs": [
    {
     "data": {
      "text/html": [
       "<span class=\"tex2jax_ignore\"><div class=\"entities\" style=\"line-height: 2.5; direction: ltr\">i taken the \n",
       "<mark class=\"entity\" style=\"background: #c887fb; padding: 0.45em 0.6em; margin: 0 0.25em; line-height: 1; border-radius: 0.35em;\">\n",
       "    lunch\n",
       "    <span style=\"font-size: 0.8em; font-weight: bold; line-height: 1; border-radius: 0.35em; vertical-align: middle; margin-left: 0.5rem\">ingredient (21%)</span>\n",
       "</mark>\n",
       ", \n",
       "<mark class=\"entity\" style=\"background: #7aecec; padding: 0.45em 0.6em; margin: 0 0.25em; line-height: 1; border-radius: 0.35em;\">\n",
       "    yesterday\n",
       "    <span style=\"font-size: 0.8em; font-weight: bold; line-height: 1; border-radius: 0.35em; vertical-align: middle; margin-left: 0.5rem\">fruite (19%)</span>\n",
       "</mark>\n",
       " in \n",
       "<mark class=\"entity\" style=\"background: #7aecec; padding: 0.45em 0.6em; margin: 0 0.25em; line-height: 1; border-radius: 0.35em;\">\n",
       "    apple company\n",
       "    <span style=\"font-size: 0.8em; font-weight: bold; line-height: 1; border-radius: 0.35em; vertical-align: middle; margin-left: 0.5rem\">fruite (80%)</span>\n",
       "</mark>\n",
       ", it was a \n",
       "<mark class=\"entity\" style=\"background: #c887fb; padding: 0.45em 0.6em; margin: 0 0.25em; line-height: 1; border-radius: 0.35em;\">\n",
       "    mashed potato\n",
       "    <span style=\"font-size: 0.8em; font-weight: bold; line-height: 1; border-radius: 0.35em; vertical-align: middle; margin-left: 0.5rem\">ingredient (41%)</span>\n",
       "</mark>\n",
       " with \n",
       "<mark class=\"entity\" style=\"background: #feca74; padding: 0.45em 0.6em; margin: 0 0.25em; line-height: 1; border-radius: 0.35em;\">\n",
       "    smoked beef\n",
       "    <span style=\"font-size: 0.8em; font-weight: bold; line-height: 1; border-radius: 0.35em; vertical-align: middle; margin-left: 0.5rem\">meat (78%)</span>\n",
       "</mark>\n",
       "</div></span>"
      ],
      "text/plain": [
       "<IPython.core.display.HTML object>"
      ]
     },
     "metadata": {},
     "output_type": "display_data"
    }
   ],
   "source": [
    "displacy.render(doc, style=\"ent\", options=options)"
   ]
  },
  {
   "cell_type": "code",
   "execution_count": null,
   "id": "be8ab352",
   "metadata": {},
   "outputs": [],
   "source": []
  },
  {
   "cell_type": "code",
   "execution_count": null,
   "id": "ce9b15ee",
   "metadata": {},
   "outputs": [],
   "source": []
  },
  {
   "cell_type": "code",
   "execution_count": null,
   "id": "6e94f2b9",
   "metadata": {},
   "outputs": [],
   "source": []
  },
  {
   "cell_type": "code",
   "execution_count": null,
   "id": "5af96724",
   "metadata": {},
   "outputs": [],
   "source": []
  },
  {
   "cell_type": "code",
   "execution_count": null,
   "id": "959202c9",
   "metadata": {},
   "outputs": [],
   "source": []
  },
  {
   "cell_type": "code",
   "execution_count": null,
   "id": "ffd94b5e",
   "metadata": {},
   "outputs": [],
   "source": []
  },
  {
   "cell_type": "code",
   "execution_count": null,
   "id": "00801e9c",
   "metadata": {},
   "outputs": [],
   "source": []
  },
  {
   "cell_type": "code",
   "execution_count": null,
   "id": "4a4ec535",
   "metadata": {},
   "outputs": [],
   "source": []
  },
  {
   "cell_type": "code",
   "execution_count": null,
   "id": "869dbf00",
   "metadata": {},
   "outputs": [],
   "source": []
  }
 ],
 "metadata": {
  "kernelspec": {
   "display_name": "Python 3.10.4 64-bit",
   "language": "python",
   "name": "python3"
  },
  "language_info": {
   "codemirror_mode": {
    "name": "ipython",
    "version": 3
   },
   "file_extension": ".py",
   "mimetype": "text/x-python",
   "name": "python",
   "nbconvert_exporter": "python",
   "pygments_lexer": "ipython3",
   "version": "3.10.4"
  },
  "vscode": {
   "interpreter": {
    "hash": "17ada00dda86f7cccbded27d5b12b38491db01074a955e9b82632c5452a1865d"
   }
  }
 },
 "nbformat": 4,
 "nbformat_minor": 5
}
